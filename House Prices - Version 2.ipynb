{
 "cells": [
  {
   "cell_type": "code",
   "execution_count": 1,
   "id": "2d42c52d",
   "metadata": {},
   "outputs": [],
   "source": [
    "import pandas as pd\n",
    "import numpy as np\n",
    "from scipy import stats\n",
    "from sklearn.preprocessing import RobustScaler\n",
    "import matplotlib.pyplot as plt\n",
    "import seaborn as sns\n",
    "import warnings\n",
    "%matplotlib inline\n",
    "\n",
    "warnings.filterwarnings('ignore')\n",
    "\n",
    "from sklearn.model_selection import train_test_split\n",
    "from sklearn.linear_model import LinearRegression\n",
    "from sklearn.tree import DecisionTreeRegressor\n",
    "from sklearn.ensemble import RandomForestRegressor\n",
    "from sklearn.metrics import mean_squared_error\n",
    "from sklearn.preprocessing import OneHotEncoder"
   ]
  },
  {
   "cell_type": "markdown",
   "id": "1ea20418",
   "metadata": {},
   "source": [
    "Let's import the train dataset:"
   ]
  },
  {
   "cell_type": "code",
   "execution_count": 2,
   "id": "b3639061",
   "metadata": {},
   "outputs": [],
   "source": [
    "train = pd.read_csv('train.csv')\n",
    "# test = pd.read_csv('test.csv')"
   ]
  },
  {
   "cell_type": "markdown",
   "id": "b93115cc",
   "metadata": {},
   "source": [
    "Checking the first 5 rows, to have an idea of the data; </br>\n",
    "Checking some measures as well and some data types."
   ]
  },
  {
   "cell_type": "code",
   "execution_count": 3,
   "id": "ec88affe",
   "metadata": {},
   "outputs": [
    {
     "data": {
      "text/html": [
       "<div>\n",
       "<style scoped>\n",
       "    .dataframe tbody tr th:only-of-type {\n",
       "        vertical-align: middle;\n",
       "    }\n",
       "\n",
       "    .dataframe tbody tr th {\n",
       "        vertical-align: top;\n",
       "    }\n",
       "\n",
       "    .dataframe thead th {\n",
       "        text-align: right;\n",
       "    }\n",
       "</style>\n",
       "<table border=\"1\" class=\"dataframe\">\n",
       "  <thead>\n",
       "    <tr style=\"text-align: right;\">\n",
       "      <th></th>\n",
       "      <th>Id</th>\n",
       "      <th>MSSubClass</th>\n",
       "      <th>MSZoning</th>\n",
       "      <th>LotFrontage</th>\n",
       "      <th>LotArea</th>\n",
       "      <th>Street</th>\n",
       "      <th>Alley</th>\n",
       "      <th>LotShape</th>\n",
       "      <th>LandContour</th>\n",
       "      <th>Utilities</th>\n",
       "      <th>...</th>\n",
       "      <th>PoolArea</th>\n",
       "      <th>PoolQC</th>\n",
       "      <th>Fence</th>\n",
       "      <th>MiscFeature</th>\n",
       "      <th>MiscVal</th>\n",
       "      <th>MoSold</th>\n",
       "      <th>YrSold</th>\n",
       "      <th>SaleType</th>\n",
       "      <th>SaleCondition</th>\n",
       "      <th>SalePrice</th>\n",
       "    </tr>\n",
       "  </thead>\n",
       "  <tbody>\n",
       "    <tr>\n",
       "      <th>0</th>\n",
       "      <td>1</td>\n",
       "      <td>60</td>\n",
       "      <td>RL</td>\n",
       "      <td>65.0</td>\n",
       "      <td>8450</td>\n",
       "      <td>Pave</td>\n",
       "      <td>NaN</td>\n",
       "      <td>Reg</td>\n",
       "      <td>Lvl</td>\n",
       "      <td>AllPub</td>\n",
       "      <td>...</td>\n",
       "      <td>0</td>\n",
       "      <td>NaN</td>\n",
       "      <td>NaN</td>\n",
       "      <td>NaN</td>\n",
       "      <td>0</td>\n",
       "      <td>2</td>\n",
       "      <td>2008</td>\n",
       "      <td>WD</td>\n",
       "      <td>Normal</td>\n",
       "      <td>208500</td>\n",
       "    </tr>\n",
       "    <tr>\n",
       "      <th>1</th>\n",
       "      <td>2</td>\n",
       "      <td>20</td>\n",
       "      <td>RL</td>\n",
       "      <td>80.0</td>\n",
       "      <td>9600</td>\n",
       "      <td>Pave</td>\n",
       "      <td>NaN</td>\n",
       "      <td>Reg</td>\n",
       "      <td>Lvl</td>\n",
       "      <td>AllPub</td>\n",
       "      <td>...</td>\n",
       "      <td>0</td>\n",
       "      <td>NaN</td>\n",
       "      <td>NaN</td>\n",
       "      <td>NaN</td>\n",
       "      <td>0</td>\n",
       "      <td>5</td>\n",
       "      <td>2007</td>\n",
       "      <td>WD</td>\n",
       "      <td>Normal</td>\n",
       "      <td>181500</td>\n",
       "    </tr>\n",
       "    <tr>\n",
       "      <th>2</th>\n",
       "      <td>3</td>\n",
       "      <td>60</td>\n",
       "      <td>RL</td>\n",
       "      <td>68.0</td>\n",
       "      <td>11250</td>\n",
       "      <td>Pave</td>\n",
       "      <td>NaN</td>\n",
       "      <td>IR1</td>\n",
       "      <td>Lvl</td>\n",
       "      <td>AllPub</td>\n",
       "      <td>...</td>\n",
       "      <td>0</td>\n",
       "      <td>NaN</td>\n",
       "      <td>NaN</td>\n",
       "      <td>NaN</td>\n",
       "      <td>0</td>\n",
       "      <td>9</td>\n",
       "      <td>2008</td>\n",
       "      <td>WD</td>\n",
       "      <td>Normal</td>\n",
       "      <td>223500</td>\n",
       "    </tr>\n",
       "    <tr>\n",
       "      <th>3</th>\n",
       "      <td>4</td>\n",
       "      <td>70</td>\n",
       "      <td>RL</td>\n",
       "      <td>60.0</td>\n",
       "      <td>9550</td>\n",
       "      <td>Pave</td>\n",
       "      <td>NaN</td>\n",
       "      <td>IR1</td>\n",
       "      <td>Lvl</td>\n",
       "      <td>AllPub</td>\n",
       "      <td>...</td>\n",
       "      <td>0</td>\n",
       "      <td>NaN</td>\n",
       "      <td>NaN</td>\n",
       "      <td>NaN</td>\n",
       "      <td>0</td>\n",
       "      <td>2</td>\n",
       "      <td>2006</td>\n",
       "      <td>WD</td>\n",
       "      <td>Abnorml</td>\n",
       "      <td>140000</td>\n",
       "    </tr>\n",
       "    <tr>\n",
       "      <th>4</th>\n",
       "      <td>5</td>\n",
       "      <td>60</td>\n",
       "      <td>RL</td>\n",
       "      <td>84.0</td>\n",
       "      <td>14260</td>\n",
       "      <td>Pave</td>\n",
       "      <td>NaN</td>\n",
       "      <td>IR1</td>\n",
       "      <td>Lvl</td>\n",
       "      <td>AllPub</td>\n",
       "      <td>...</td>\n",
       "      <td>0</td>\n",
       "      <td>NaN</td>\n",
       "      <td>NaN</td>\n",
       "      <td>NaN</td>\n",
       "      <td>0</td>\n",
       "      <td>12</td>\n",
       "      <td>2008</td>\n",
       "      <td>WD</td>\n",
       "      <td>Normal</td>\n",
       "      <td>250000</td>\n",
       "    </tr>\n",
       "  </tbody>\n",
       "</table>\n",
       "<p>5 rows × 81 columns</p>\n",
       "</div>"
      ],
      "text/plain": [
       "   Id  MSSubClass MSZoning  LotFrontage  LotArea Street Alley LotShape  \\\n",
       "0   1          60       RL         65.0     8450   Pave   NaN      Reg   \n",
       "1   2          20       RL         80.0     9600   Pave   NaN      Reg   \n",
       "2   3          60       RL         68.0    11250   Pave   NaN      IR1   \n",
       "3   4          70       RL         60.0     9550   Pave   NaN      IR1   \n",
       "4   5          60       RL         84.0    14260   Pave   NaN      IR1   \n",
       "\n",
       "  LandContour Utilities  ... PoolArea PoolQC Fence MiscFeature MiscVal MoSold  \\\n",
       "0         Lvl    AllPub  ...        0    NaN   NaN         NaN       0      2   \n",
       "1         Lvl    AllPub  ...        0    NaN   NaN         NaN       0      5   \n",
       "2         Lvl    AllPub  ...        0    NaN   NaN         NaN       0      9   \n",
       "3         Lvl    AllPub  ...        0    NaN   NaN         NaN       0      2   \n",
       "4         Lvl    AllPub  ...        0    NaN   NaN         NaN       0     12   \n",
       "\n",
       "  YrSold  SaleType  SaleCondition  SalePrice  \n",
       "0   2008        WD         Normal     208500  \n",
       "1   2007        WD         Normal     181500  \n",
       "2   2008        WD         Normal     223500  \n",
       "3   2006        WD        Abnorml     140000  \n",
       "4   2008        WD         Normal     250000  \n",
       "\n",
       "[5 rows x 81 columns]"
      ]
     },
     "execution_count": 3,
     "metadata": {},
     "output_type": "execute_result"
    }
   ],
   "source": [
    "train.head(5)"
   ]
  },
  {
   "cell_type": "code",
   "execution_count": 4,
   "id": "c8e298a7",
   "metadata": {},
   "outputs": [],
   "source": [
    "# test.head(5)"
   ]
  },
  {
   "cell_type": "code",
   "execution_count": 5,
   "id": "889e8695",
   "metadata": {},
   "outputs": [
    {
     "data": {
      "text/html": [
       "<div>\n",
       "<style scoped>\n",
       "    .dataframe tbody tr th:only-of-type {\n",
       "        vertical-align: middle;\n",
       "    }\n",
       "\n",
       "    .dataframe tbody tr th {\n",
       "        vertical-align: top;\n",
       "    }\n",
       "\n",
       "    .dataframe thead th {\n",
       "        text-align: right;\n",
       "    }\n",
       "</style>\n",
       "<table border=\"1\" class=\"dataframe\">\n",
       "  <thead>\n",
       "    <tr style=\"text-align: right;\">\n",
       "      <th></th>\n",
       "      <th>Id</th>\n",
       "      <th>MSSubClass</th>\n",
       "      <th>LotFrontage</th>\n",
       "      <th>LotArea</th>\n",
       "      <th>OverallQual</th>\n",
       "      <th>OverallCond</th>\n",
       "      <th>YearBuilt</th>\n",
       "      <th>YearRemodAdd</th>\n",
       "      <th>MasVnrArea</th>\n",
       "      <th>BsmtFinSF1</th>\n",
       "      <th>...</th>\n",
       "      <th>WoodDeckSF</th>\n",
       "      <th>OpenPorchSF</th>\n",
       "      <th>EnclosedPorch</th>\n",
       "      <th>3SsnPorch</th>\n",
       "      <th>ScreenPorch</th>\n",
       "      <th>PoolArea</th>\n",
       "      <th>MiscVal</th>\n",
       "      <th>MoSold</th>\n",
       "      <th>YrSold</th>\n",
       "      <th>SalePrice</th>\n",
       "    </tr>\n",
       "  </thead>\n",
       "  <tbody>\n",
       "    <tr>\n",
       "      <th>count</th>\n",
       "      <td>1460.000000</td>\n",
       "      <td>1460.000000</td>\n",
       "      <td>1201.000000</td>\n",
       "      <td>1460.000000</td>\n",
       "      <td>1460.000000</td>\n",
       "      <td>1460.000000</td>\n",
       "      <td>1460.000000</td>\n",
       "      <td>1460.000000</td>\n",
       "      <td>1452.000000</td>\n",
       "      <td>1460.000000</td>\n",
       "      <td>...</td>\n",
       "      <td>1460.000000</td>\n",
       "      <td>1460.000000</td>\n",
       "      <td>1460.000000</td>\n",
       "      <td>1460.000000</td>\n",
       "      <td>1460.000000</td>\n",
       "      <td>1460.000000</td>\n",
       "      <td>1460.000000</td>\n",
       "      <td>1460.000000</td>\n",
       "      <td>1460.000000</td>\n",
       "      <td>1460.000000</td>\n",
       "    </tr>\n",
       "    <tr>\n",
       "      <th>mean</th>\n",
       "      <td>730.500000</td>\n",
       "      <td>56.897260</td>\n",
       "      <td>70.049958</td>\n",
       "      <td>10516.828082</td>\n",
       "      <td>6.099315</td>\n",
       "      <td>5.575342</td>\n",
       "      <td>1971.267808</td>\n",
       "      <td>1984.865753</td>\n",
       "      <td>103.685262</td>\n",
       "      <td>443.639726</td>\n",
       "      <td>...</td>\n",
       "      <td>94.244521</td>\n",
       "      <td>46.660274</td>\n",
       "      <td>21.954110</td>\n",
       "      <td>3.409589</td>\n",
       "      <td>15.060959</td>\n",
       "      <td>2.758904</td>\n",
       "      <td>43.489041</td>\n",
       "      <td>6.321918</td>\n",
       "      <td>2007.815753</td>\n",
       "      <td>180921.195890</td>\n",
       "    </tr>\n",
       "    <tr>\n",
       "      <th>std</th>\n",
       "      <td>421.610009</td>\n",
       "      <td>42.300571</td>\n",
       "      <td>24.284752</td>\n",
       "      <td>9981.264932</td>\n",
       "      <td>1.382997</td>\n",
       "      <td>1.112799</td>\n",
       "      <td>30.202904</td>\n",
       "      <td>20.645407</td>\n",
       "      <td>181.066207</td>\n",
       "      <td>456.098091</td>\n",
       "      <td>...</td>\n",
       "      <td>125.338794</td>\n",
       "      <td>66.256028</td>\n",
       "      <td>61.119149</td>\n",
       "      <td>29.317331</td>\n",
       "      <td>55.757415</td>\n",
       "      <td>40.177307</td>\n",
       "      <td>496.123024</td>\n",
       "      <td>2.703626</td>\n",
       "      <td>1.328095</td>\n",
       "      <td>79442.502883</td>\n",
       "    </tr>\n",
       "    <tr>\n",
       "      <th>min</th>\n",
       "      <td>1.000000</td>\n",
       "      <td>20.000000</td>\n",
       "      <td>21.000000</td>\n",
       "      <td>1300.000000</td>\n",
       "      <td>1.000000</td>\n",
       "      <td>1.000000</td>\n",
       "      <td>1872.000000</td>\n",
       "      <td>1950.000000</td>\n",
       "      <td>0.000000</td>\n",
       "      <td>0.000000</td>\n",
       "      <td>...</td>\n",
       "      <td>0.000000</td>\n",
       "      <td>0.000000</td>\n",
       "      <td>0.000000</td>\n",
       "      <td>0.000000</td>\n",
       "      <td>0.000000</td>\n",
       "      <td>0.000000</td>\n",
       "      <td>0.000000</td>\n",
       "      <td>1.000000</td>\n",
       "      <td>2006.000000</td>\n",
       "      <td>34900.000000</td>\n",
       "    </tr>\n",
       "    <tr>\n",
       "      <th>25%</th>\n",
       "      <td>365.750000</td>\n",
       "      <td>20.000000</td>\n",
       "      <td>59.000000</td>\n",
       "      <td>7553.500000</td>\n",
       "      <td>5.000000</td>\n",
       "      <td>5.000000</td>\n",
       "      <td>1954.000000</td>\n",
       "      <td>1967.000000</td>\n",
       "      <td>0.000000</td>\n",
       "      <td>0.000000</td>\n",
       "      <td>...</td>\n",
       "      <td>0.000000</td>\n",
       "      <td>0.000000</td>\n",
       "      <td>0.000000</td>\n",
       "      <td>0.000000</td>\n",
       "      <td>0.000000</td>\n",
       "      <td>0.000000</td>\n",
       "      <td>0.000000</td>\n",
       "      <td>5.000000</td>\n",
       "      <td>2007.000000</td>\n",
       "      <td>129975.000000</td>\n",
       "    </tr>\n",
       "    <tr>\n",
       "      <th>50%</th>\n",
       "      <td>730.500000</td>\n",
       "      <td>50.000000</td>\n",
       "      <td>69.000000</td>\n",
       "      <td>9478.500000</td>\n",
       "      <td>6.000000</td>\n",
       "      <td>5.000000</td>\n",
       "      <td>1973.000000</td>\n",
       "      <td>1994.000000</td>\n",
       "      <td>0.000000</td>\n",
       "      <td>383.500000</td>\n",
       "      <td>...</td>\n",
       "      <td>0.000000</td>\n",
       "      <td>25.000000</td>\n",
       "      <td>0.000000</td>\n",
       "      <td>0.000000</td>\n",
       "      <td>0.000000</td>\n",
       "      <td>0.000000</td>\n",
       "      <td>0.000000</td>\n",
       "      <td>6.000000</td>\n",
       "      <td>2008.000000</td>\n",
       "      <td>163000.000000</td>\n",
       "    </tr>\n",
       "    <tr>\n",
       "      <th>75%</th>\n",
       "      <td>1095.250000</td>\n",
       "      <td>70.000000</td>\n",
       "      <td>80.000000</td>\n",
       "      <td>11601.500000</td>\n",
       "      <td>7.000000</td>\n",
       "      <td>6.000000</td>\n",
       "      <td>2000.000000</td>\n",
       "      <td>2004.000000</td>\n",
       "      <td>166.000000</td>\n",
       "      <td>712.250000</td>\n",
       "      <td>...</td>\n",
       "      <td>168.000000</td>\n",
       "      <td>68.000000</td>\n",
       "      <td>0.000000</td>\n",
       "      <td>0.000000</td>\n",
       "      <td>0.000000</td>\n",
       "      <td>0.000000</td>\n",
       "      <td>0.000000</td>\n",
       "      <td>8.000000</td>\n",
       "      <td>2009.000000</td>\n",
       "      <td>214000.000000</td>\n",
       "    </tr>\n",
       "    <tr>\n",
       "      <th>max</th>\n",
       "      <td>1460.000000</td>\n",
       "      <td>190.000000</td>\n",
       "      <td>313.000000</td>\n",
       "      <td>215245.000000</td>\n",
       "      <td>10.000000</td>\n",
       "      <td>9.000000</td>\n",
       "      <td>2010.000000</td>\n",
       "      <td>2010.000000</td>\n",
       "      <td>1600.000000</td>\n",
       "      <td>5644.000000</td>\n",
       "      <td>...</td>\n",
       "      <td>857.000000</td>\n",
       "      <td>547.000000</td>\n",
       "      <td>552.000000</td>\n",
       "      <td>508.000000</td>\n",
       "      <td>480.000000</td>\n",
       "      <td>738.000000</td>\n",
       "      <td>15500.000000</td>\n",
       "      <td>12.000000</td>\n",
       "      <td>2010.000000</td>\n",
       "      <td>755000.000000</td>\n",
       "    </tr>\n",
       "  </tbody>\n",
       "</table>\n",
       "<p>8 rows × 38 columns</p>\n",
       "</div>"
      ],
      "text/plain": [
       "                Id   MSSubClass  LotFrontage        LotArea  OverallQual  \\\n",
       "count  1460.000000  1460.000000  1201.000000    1460.000000  1460.000000   \n",
       "mean    730.500000    56.897260    70.049958   10516.828082     6.099315   \n",
       "std     421.610009    42.300571    24.284752    9981.264932     1.382997   \n",
       "min       1.000000    20.000000    21.000000    1300.000000     1.000000   \n",
       "25%     365.750000    20.000000    59.000000    7553.500000     5.000000   \n",
       "50%     730.500000    50.000000    69.000000    9478.500000     6.000000   \n",
       "75%    1095.250000    70.000000    80.000000   11601.500000     7.000000   \n",
       "max    1460.000000   190.000000   313.000000  215245.000000    10.000000   \n",
       "\n",
       "       OverallCond    YearBuilt  YearRemodAdd   MasVnrArea   BsmtFinSF1  ...  \\\n",
       "count  1460.000000  1460.000000   1460.000000  1452.000000  1460.000000  ...   \n",
       "mean      5.575342  1971.267808   1984.865753   103.685262   443.639726  ...   \n",
       "std       1.112799    30.202904     20.645407   181.066207   456.098091  ...   \n",
       "min       1.000000  1872.000000   1950.000000     0.000000     0.000000  ...   \n",
       "25%       5.000000  1954.000000   1967.000000     0.000000     0.000000  ...   \n",
       "50%       5.000000  1973.000000   1994.000000     0.000000   383.500000  ...   \n",
       "75%       6.000000  2000.000000   2004.000000   166.000000   712.250000  ...   \n",
       "max       9.000000  2010.000000   2010.000000  1600.000000  5644.000000  ...   \n",
       "\n",
       "        WoodDeckSF  OpenPorchSF  EnclosedPorch    3SsnPorch  ScreenPorch  \\\n",
       "count  1460.000000  1460.000000    1460.000000  1460.000000  1460.000000   \n",
       "mean     94.244521    46.660274      21.954110     3.409589    15.060959   \n",
       "std     125.338794    66.256028      61.119149    29.317331    55.757415   \n",
       "min       0.000000     0.000000       0.000000     0.000000     0.000000   \n",
       "25%       0.000000     0.000000       0.000000     0.000000     0.000000   \n",
       "50%       0.000000    25.000000       0.000000     0.000000     0.000000   \n",
       "75%     168.000000    68.000000       0.000000     0.000000     0.000000   \n",
       "max     857.000000   547.000000     552.000000   508.000000   480.000000   \n",
       "\n",
       "          PoolArea       MiscVal       MoSold       YrSold      SalePrice  \n",
       "count  1460.000000   1460.000000  1460.000000  1460.000000    1460.000000  \n",
       "mean      2.758904     43.489041     6.321918  2007.815753  180921.195890  \n",
       "std      40.177307    496.123024     2.703626     1.328095   79442.502883  \n",
       "min       0.000000      0.000000     1.000000  2006.000000   34900.000000  \n",
       "25%       0.000000      0.000000     5.000000  2007.000000  129975.000000  \n",
       "50%       0.000000      0.000000     6.000000  2008.000000  163000.000000  \n",
       "75%       0.000000      0.000000     8.000000  2009.000000  214000.000000  \n",
       "max     738.000000  15500.000000    12.000000  2010.000000  755000.000000  \n",
       "\n",
       "[8 rows x 38 columns]"
      ]
     },
     "execution_count": 5,
     "metadata": {},
     "output_type": "execute_result"
    }
   ],
   "source": [
    "train.describe()"
   ]
  },
  {
   "cell_type": "code",
   "execution_count": 6,
   "id": "7ddf7eaf",
   "metadata": {
    "scrolled": true
   },
   "outputs": [
    {
     "name": "stdout",
     "output_type": "stream",
     "text": [
      "<class 'pandas.core.frame.DataFrame'>\n",
      "RangeIndex: 1460 entries, 0 to 1459\n",
      "Data columns (total 81 columns):\n",
      " #   Column         Non-Null Count  Dtype  \n",
      "---  ------         --------------  -----  \n",
      " 0   Id             1460 non-null   int64  \n",
      " 1   MSSubClass     1460 non-null   int64  \n",
      " 2   MSZoning       1460 non-null   object \n",
      " 3   LotFrontage    1201 non-null   float64\n",
      " 4   LotArea        1460 non-null   int64  \n",
      " 5   Street         1460 non-null   object \n",
      " 6   Alley          91 non-null     object \n",
      " 7   LotShape       1460 non-null   object \n",
      " 8   LandContour    1460 non-null   object \n",
      " 9   Utilities      1460 non-null   object \n",
      " 10  LotConfig      1460 non-null   object \n",
      " 11  LandSlope      1460 non-null   object \n",
      " 12  Neighborhood   1460 non-null   object \n",
      " 13  Condition1     1460 non-null   object \n",
      " 14  Condition2     1460 non-null   object \n",
      " 15  BldgType       1460 non-null   object \n",
      " 16  HouseStyle     1460 non-null   object \n",
      " 17  OverallQual    1460 non-null   int64  \n",
      " 18  OverallCond    1460 non-null   int64  \n",
      " 19  YearBuilt      1460 non-null   int64  \n",
      " 20  YearRemodAdd   1460 non-null   int64  \n",
      " 21  RoofStyle      1460 non-null   object \n",
      " 22  RoofMatl       1460 non-null   object \n",
      " 23  Exterior1st    1460 non-null   object \n",
      " 24  Exterior2nd    1460 non-null   object \n",
      " 25  MasVnrType     1452 non-null   object \n",
      " 26  MasVnrArea     1452 non-null   float64\n",
      " 27  ExterQual      1460 non-null   object \n",
      " 28  ExterCond      1460 non-null   object \n",
      " 29  Foundation     1460 non-null   object \n",
      " 30  BsmtQual       1423 non-null   object \n",
      " 31  BsmtCond       1423 non-null   object \n",
      " 32  BsmtExposure   1422 non-null   object \n",
      " 33  BsmtFinType1   1423 non-null   object \n",
      " 34  BsmtFinSF1     1460 non-null   int64  \n",
      " 35  BsmtFinType2   1422 non-null   object \n",
      " 36  BsmtFinSF2     1460 non-null   int64  \n",
      " 37  BsmtUnfSF      1460 non-null   int64  \n",
      " 38  TotalBsmtSF    1460 non-null   int64  \n",
      " 39  Heating        1460 non-null   object \n",
      " 40  HeatingQC      1460 non-null   object \n",
      " 41  CentralAir     1460 non-null   object \n",
      " 42  Electrical     1459 non-null   object \n",
      " 43  1stFlrSF       1460 non-null   int64  \n",
      " 44  2ndFlrSF       1460 non-null   int64  \n",
      " 45  LowQualFinSF   1460 non-null   int64  \n",
      " 46  GrLivArea      1460 non-null   int64  \n",
      " 47  BsmtFullBath   1460 non-null   int64  \n",
      " 48  BsmtHalfBath   1460 non-null   int64  \n",
      " 49  FullBath       1460 non-null   int64  \n",
      " 50  HalfBath       1460 non-null   int64  \n",
      " 51  BedroomAbvGr   1460 non-null   int64  \n",
      " 52  KitchenAbvGr   1460 non-null   int64  \n",
      " 53  KitchenQual    1460 non-null   object \n",
      " 54  TotRmsAbvGrd   1460 non-null   int64  \n",
      " 55  Functional     1460 non-null   object \n",
      " 56  Fireplaces     1460 non-null   int64  \n",
      " 57  FireplaceQu    770 non-null    object \n",
      " 58  GarageType     1379 non-null   object \n",
      " 59  GarageYrBlt    1379 non-null   float64\n",
      " 60  GarageFinish   1379 non-null   object \n",
      " 61  GarageCars     1460 non-null   int64  \n",
      " 62  GarageArea     1460 non-null   int64  \n",
      " 63  GarageQual     1379 non-null   object \n",
      " 64  GarageCond     1379 non-null   object \n",
      " 65  PavedDrive     1460 non-null   object \n",
      " 66  WoodDeckSF     1460 non-null   int64  \n",
      " 67  OpenPorchSF    1460 non-null   int64  \n",
      " 68  EnclosedPorch  1460 non-null   int64  \n",
      " 69  3SsnPorch      1460 non-null   int64  \n",
      " 70  ScreenPorch    1460 non-null   int64  \n",
      " 71  PoolArea       1460 non-null   int64  \n",
      " 72  PoolQC         7 non-null      object \n",
      " 73  Fence          281 non-null    object \n",
      " 74  MiscFeature    54 non-null     object \n",
      " 75  MiscVal        1460 non-null   int64  \n",
      " 76  MoSold         1460 non-null   int64  \n",
      " 77  YrSold         1460 non-null   int64  \n",
      " 78  SaleType       1460 non-null   object \n",
      " 79  SaleCondition  1460 non-null   object \n",
      " 80  SalePrice      1460 non-null   int64  \n",
      "dtypes: float64(3), int64(35), object(43)\n",
      "memory usage: 924.0+ KB\n"
     ]
    }
   ],
   "source": [
    "train.info()"
   ]
  },
  {
   "cell_type": "markdown",
   "id": "a4c6261b",
   "metadata": {},
   "source": [
    "Save the ID in a separate column, and make it the index:"
   ]
  },
  {
   "cell_type": "code",
   "execution_count": 7,
   "id": "2e91073c",
   "metadata": {},
   "outputs": [],
   "source": [
    "train_id = train['Id']\n",
    "train.set_index(train['Id'], inplace=True)\n",
    "train = train.drop(['Id'], axis=1)\n",
    "\n",
    "# test_id = test['Id']\n",
    "# test.set_index(test['Id'], inplace=True)\n",
    "# test = test.drop(['Id'], axis=1)"
   ]
  },
  {
   "cell_type": "code",
   "execution_count": 8,
   "id": "b4cdc2ee",
   "metadata": {},
   "outputs": [
    {
     "data": {
      "text/html": [
       "<div>\n",
       "<style scoped>\n",
       "    .dataframe tbody tr th:only-of-type {\n",
       "        vertical-align: middle;\n",
       "    }\n",
       "\n",
       "    .dataframe tbody tr th {\n",
       "        vertical-align: top;\n",
       "    }\n",
       "\n",
       "    .dataframe thead th {\n",
       "        text-align: right;\n",
       "    }\n",
       "</style>\n",
       "<table border=\"1\" class=\"dataframe\">\n",
       "  <thead>\n",
       "    <tr style=\"text-align: right;\">\n",
       "      <th></th>\n",
       "      <th>MSSubClass</th>\n",
       "      <th>MSZoning</th>\n",
       "      <th>LotFrontage</th>\n",
       "      <th>LotArea</th>\n",
       "      <th>Street</th>\n",
       "      <th>Alley</th>\n",
       "      <th>LotShape</th>\n",
       "      <th>LandContour</th>\n",
       "      <th>Utilities</th>\n",
       "      <th>LotConfig</th>\n",
       "      <th>...</th>\n",
       "      <th>PoolArea</th>\n",
       "      <th>PoolQC</th>\n",
       "      <th>Fence</th>\n",
       "      <th>MiscFeature</th>\n",
       "      <th>MiscVal</th>\n",
       "      <th>MoSold</th>\n",
       "      <th>YrSold</th>\n",
       "      <th>SaleType</th>\n",
       "      <th>SaleCondition</th>\n",
       "      <th>SalePrice</th>\n",
       "    </tr>\n",
       "    <tr>\n",
       "      <th>Id</th>\n",
       "      <th></th>\n",
       "      <th></th>\n",
       "      <th></th>\n",
       "      <th></th>\n",
       "      <th></th>\n",
       "      <th></th>\n",
       "      <th></th>\n",
       "      <th></th>\n",
       "      <th></th>\n",
       "      <th></th>\n",
       "      <th></th>\n",
       "      <th></th>\n",
       "      <th></th>\n",
       "      <th></th>\n",
       "      <th></th>\n",
       "      <th></th>\n",
       "      <th></th>\n",
       "      <th></th>\n",
       "      <th></th>\n",
       "      <th></th>\n",
       "      <th></th>\n",
       "    </tr>\n",
       "  </thead>\n",
       "  <tbody>\n",
       "    <tr>\n",
       "      <th>1</th>\n",
       "      <td>60</td>\n",
       "      <td>RL</td>\n",
       "      <td>65.0</td>\n",
       "      <td>8450</td>\n",
       "      <td>Pave</td>\n",
       "      <td>NaN</td>\n",
       "      <td>Reg</td>\n",
       "      <td>Lvl</td>\n",
       "      <td>AllPub</td>\n",
       "      <td>Inside</td>\n",
       "      <td>...</td>\n",
       "      <td>0</td>\n",
       "      <td>NaN</td>\n",
       "      <td>NaN</td>\n",
       "      <td>NaN</td>\n",
       "      <td>0</td>\n",
       "      <td>2</td>\n",
       "      <td>2008</td>\n",
       "      <td>WD</td>\n",
       "      <td>Normal</td>\n",
       "      <td>208500</td>\n",
       "    </tr>\n",
       "    <tr>\n",
       "      <th>2</th>\n",
       "      <td>20</td>\n",
       "      <td>RL</td>\n",
       "      <td>80.0</td>\n",
       "      <td>9600</td>\n",
       "      <td>Pave</td>\n",
       "      <td>NaN</td>\n",
       "      <td>Reg</td>\n",
       "      <td>Lvl</td>\n",
       "      <td>AllPub</td>\n",
       "      <td>FR2</td>\n",
       "      <td>...</td>\n",
       "      <td>0</td>\n",
       "      <td>NaN</td>\n",
       "      <td>NaN</td>\n",
       "      <td>NaN</td>\n",
       "      <td>0</td>\n",
       "      <td>5</td>\n",
       "      <td>2007</td>\n",
       "      <td>WD</td>\n",
       "      <td>Normal</td>\n",
       "      <td>181500</td>\n",
       "    </tr>\n",
       "    <tr>\n",
       "      <th>3</th>\n",
       "      <td>60</td>\n",
       "      <td>RL</td>\n",
       "      <td>68.0</td>\n",
       "      <td>11250</td>\n",
       "      <td>Pave</td>\n",
       "      <td>NaN</td>\n",
       "      <td>IR1</td>\n",
       "      <td>Lvl</td>\n",
       "      <td>AllPub</td>\n",
       "      <td>Inside</td>\n",
       "      <td>...</td>\n",
       "      <td>0</td>\n",
       "      <td>NaN</td>\n",
       "      <td>NaN</td>\n",
       "      <td>NaN</td>\n",
       "      <td>0</td>\n",
       "      <td>9</td>\n",
       "      <td>2008</td>\n",
       "      <td>WD</td>\n",
       "      <td>Normal</td>\n",
       "      <td>223500</td>\n",
       "    </tr>\n",
       "    <tr>\n",
       "      <th>4</th>\n",
       "      <td>70</td>\n",
       "      <td>RL</td>\n",
       "      <td>60.0</td>\n",
       "      <td>9550</td>\n",
       "      <td>Pave</td>\n",
       "      <td>NaN</td>\n",
       "      <td>IR1</td>\n",
       "      <td>Lvl</td>\n",
       "      <td>AllPub</td>\n",
       "      <td>Corner</td>\n",
       "      <td>...</td>\n",
       "      <td>0</td>\n",
       "      <td>NaN</td>\n",
       "      <td>NaN</td>\n",
       "      <td>NaN</td>\n",
       "      <td>0</td>\n",
       "      <td>2</td>\n",
       "      <td>2006</td>\n",
       "      <td>WD</td>\n",
       "      <td>Abnorml</td>\n",
       "      <td>140000</td>\n",
       "    </tr>\n",
       "    <tr>\n",
       "      <th>5</th>\n",
       "      <td>60</td>\n",
       "      <td>RL</td>\n",
       "      <td>84.0</td>\n",
       "      <td>14260</td>\n",
       "      <td>Pave</td>\n",
       "      <td>NaN</td>\n",
       "      <td>IR1</td>\n",
       "      <td>Lvl</td>\n",
       "      <td>AllPub</td>\n",
       "      <td>FR2</td>\n",
       "      <td>...</td>\n",
       "      <td>0</td>\n",
       "      <td>NaN</td>\n",
       "      <td>NaN</td>\n",
       "      <td>NaN</td>\n",
       "      <td>0</td>\n",
       "      <td>12</td>\n",
       "      <td>2008</td>\n",
       "      <td>WD</td>\n",
       "      <td>Normal</td>\n",
       "      <td>250000</td>\n",
       "    </tr>\n",
       "  </tbody>\n",
       "</table>\n",
       "<p>5 rows × 80 columns</p>\n",
       "</div>"
      ],
      "text/plain": [
       "    MSSubClass MSZoning  LotFrontage  LotArea Street Alley LotShape  \\\n",
       "Id                                                                    \n",
       "1           60       RL         65.0     8450   Pave   NaN      Reg   \n",
       "2           20       RL         80.0     9600   Pave   NaN      Reg   \n",
       "3           60       RL         68.0    11250   Pave   NaN      IR1   \n",
       "4           70       RL         60.0     9550   Pave   NaN      IR1   \n",
       "5           60       RL         84.0    14260   Pave   NaN      IR1   \n",
       "\n",
       "   LandContour Utilities LotConfig  ... PoolArea PoolQC Fence MiscFeature  \\\n",
       "Id                                  ...                                     \n",
       "1          Lvl    AllPub    Inside  ...        0    NaN   NaN         NaN   \n",
       "2          Lvl    AllPub       FR2  ...        0    NaN   NaN         NaN   \n",
       "3          Lvl    AllPub    Inside  ...        0    NaN   NaN         NaN   \n",
       "4          Lvl    AllPub    Corner  ...        0    NaN   NaN         NaN   \n",
       "5          Lvl    AllPub       FR2  ...        0    NaN   NaN         NaN   \n",
       "\n",
       "   MiscVal MoSold  YrSold  SaleType  SaleCondition  SalePrice  \n",
       "Id                                                             \n",
       "1        0      2    2008        WD         Normal     208500  \n",
       "2        0      5    2007        WD         Normal     181500  \n",
       "3        0      9    2008        WD         Normal     223500  \n",
       "4        0      2    2006        WD        Abnorml     140000  \n",
       "5        0     12    2008        WD         Normal     250000  \n",
       "\n",
       "[5 rows x 80 columns]"
      ]
     },
     "execution_count": 8,
     "metadata": {},
     "output_type": "execute_result"
    }
   ],
   "source": [
    "train.head()"
   ]
  },
  {
   "cell_type": "markdown",
   "id": "35896feb",
   "metadata": {},
   "source": [
    "### First of all, I always like to deal with NaNs"
   ]
  },
  {
   "cell_type": "markdown",
   "id": "b656bdc7",
   "metadata": {},
   "source": [
    "Let's have a look at the total number and percentage of NaN's in each column, displaying only the columns with at least 1 Nan."
   ]
  },
  {
   "cell_type": "code",
   "execution_count": 9,
   "id": "7d2c16b3",
   "metadata": {},
   "outputs": [],
   "source": [
    "total = train.isna().sum().sort_values(ascending=False)\n",
    "percentage = total/train.shape[0]\n",
    "total_nans = pd.concat([total, percentage], axis=1, keys=['Total', \"Percentage\"])\n",
    "\n",
    "# total1 = test.isna().sum().sort_values(ascending=False)\n",
    "# percentage = total1/test.shape[0]\n",
    "# total1_nans = pd.concat([total1, percentage], axis=1, keys=['Total', \"Percentage\"])"
   ]
  },
  {
   "cell_type": "code",
   "execution_count": 10,
   "id": "05567ef8",
   "metadata": {
    "scrolled": true
   },
   "outputs": [
    {
     "data": {
      "text/html": [
       "<div>\n",
       "<style scoped>\n",
       "    .dataframe tbody tr th:only-of-type {\n",
       "        vertical-align: middle;\n",
       "    }\n",
       "\n",
       "    .dataframe tbody tr th {\n",
       "        vertical-align: top;\n",
       "    }\n",
       "\n",
       "    .dataframe thead th {\n",
       "        text-align: right;\n",
       "    }\n",
       "</style>\n",
       "<table border=\"1\" class=\"dataframe\">\n",
       "  <thead>\n",
       "    <tr style=\"text-align: right;\">\n",
       "      <th></th>\n",
       "      <th>Total</th>\n",
       "      <th>Percentage</th>\n",
       "    </tr>\n",
       "  </thead>\n",
       "  <tbody>\n",
       "    <tr>\n",
       "      <th>PoolQC</th>\n",
       "      <td>1453</td>\n",
       "      <td>0.995205</td>\n",
       "    </tr>\n",
       "    <tr>\n",
       "      <th>MiscFeature</th>\n",
       "      <td>1406</td>\n",
       "      <td>0.963014</td>\n",
       "    </tr>\n",
       "    <tr>\n",
       "      <th>Alley</th>\n",
       "      <td>1369</td>\n",
       "      <td>0.937671</td>\n",
       "    </tr>\n",
       "    <tr>\n",
       "      <th>Fence</th>\n",
       "      <td>1179</td>\n",
       "      <td>0.807534</td>\n",
       "    </tr>\n",
       "    <tr>\n",
       "      <th>FireplaceQu</th>\n",
       "      <td>690</td>\n",
       "      <td>0.472603</td>\n",
       "    </tr>\n",
       "    <tr>\n",
       "      <th>LotFrontage</th>\n",
       "      <td>259</td>\n",
       "      <td>0.177397</td>\n",
       "    </tr>\n",
       "    <tr>\n",
       "      <th>GarageYrBlt</th>\n",
       "      <td>81</td>\n",
       "      <td>0.055479</td>\n",
       "    </tr>\n",
       "    <tr>\n",
       "      <th>GarageCond</th>\n",
       "      <td>81</td>\n",
       "      <td>0.055479</td>\n",
       "    </tr>\n",
       "    <tr>\n",
       "      <th>GarageType</th>\n",
       "      <td>81</td>\n",
       "      <td>0.055479</td>\n",
       "    </tr>\n",
       "    <tr>\n",
       "      <th>GarageFinish</th>\n",
       "      <td>81</td>\n",
       "      <td>0.055479</td>\n",
       "    </tr>\n",
       "    <tr>\n",
       "      <th>GarageQual</th>\n",
       "      <td>81</td>\n",
       "      <td>0.055479</td>\n",
       "    </tr>\n",
       "    <tr>\n",
       "      <th>BsmtExposure</th>\n",
       "      <td>38</td>\n",
       "      <td>0.026027</td>\n",
       "    </tr>\n",
       "    <tr>\n",
       "      <th>BsmtFinType2</th>\n",
       "      <td>38</td>\n",
       "      <td>0.026027</td>\n",
       "    </tr>\n",
       "    <tr>\n",
       "      <th>BsmtCond</th>\n",
       "      <td>37</td>\n",
       "      <td>0.025342</td>\n",
       "    </tr>\n",
       "    <tr>\n",
       "      <th>BsmtQual</th>\n",
       "      <td>37</td>\n",
       "      <td>0.025342</td>\n",
       "    </tr>\n",
       "    <tr>\n",
       "      <th>BsmtFinType1</th>\n",
       "      <td>37</td>\n",
       "      <td>0.025342</td>\n",
       "    </tr>\n",
       "    <tr>\n",
       "      <th>MasVnrArea</th>\n",
       "      <td>8</td>\n",
       "      <td>0.005479</td>\n",
       "    </tr>\n",
       "    <tr>\n",
       "      <th>MasVnrType</th>\n",
       "      <td>8</td>\n",
       "      <td>0.005479</td>\n",
       "    </tr>\n",
       "    <tr>\n",
       "      <th>Electrical</th>\n",
       "      <td>1</td>\n",
       "      <td>0.000685</td>\n",
       "    </tr>\n",
       "  </tbody>\n",
       "</table>\n",
       "</div>"
      ],
      "text/plain": [
       "              Total  Percentage\n",
       "PoolQC         1453    0.995205\n",
       "MiscFeature    1406    0.963014\n",
       "Alley          1369    0.937671\n",
       "Fence          1179    0.807534\n",
       "FireplaceQu     690    0.472603\n",
       "LotFrontage     259    0.177397\n",
       "GarageYrBlt      81    0.055479\n",
       "GarageCond       81    0.055479\n",
       "GarageType       81    0.055479\n",
       "GarageFinish     81    0.055479\n",
       "GarageQual       81    0.055479\n",
       "BsmtExposure     38    0.026027\n",
       "BsmtFinType2     38    0.026027\n",
       "BsmtCond         37    0.025342\n",
       "BsmtQual         37    0.025342\n",
       "BsmtFinType1     37    0.025342\n",
       "MasVnrArea        8    0.005479\n",
       "MasVnrType        8    0.005479\n",
       "Electrical        1    0.000685"
      ]
     },
     "execution_count": 10,
     "metadata": {},
     "output_type": "execute_result"
    }
   ],
   "source": [
    "total_nans.loc[total_nans['Total'] > 0]\n",
    "\n",
    "# total1_nans.loc[total1_nans['Total'] > 0]"
   ]
  },
  {
   "cell_type": "markdown",
   "id": "faeccdf4",
   "metadata": {},
   "source": [
    "Although we might be losing some data, I'll drop all columns having more than 15% of NaNs:"
   ]
  },
  {
   "cell_type": "code",
   "execution_count": 11,
   "id": "a5aa0d39",
   "metadata": {},
   "outputs": [],
   "source": [
    "to_drop = [feature for feature in total_nans.loc[total_nans['Percentage'] >= 0.15].index]\n",
    "train = train.drop(to_drop, axis=1)\n",
    "\n",
    "# to_drop1 = [feature for feature in total1_nans.loc[total1_nans['Percentage'] >= 0.15].index]\n",
    "# test = test.drop(to_drop, axis=1)"
   ]
  },
  {
   "cell_type": "markdown",
   "id": "af24c7af",
   "metadata": {},
   "source": [
    "Now let's see the features that still have NaNs."
   ]
  },
  {
   "cell_type": "code",
   "execution_count": 12,
   "id": "6a361f64",
   "metadata": {},
   "outputs": [],
   "source": [
    "new = pd.DataFrame(train.isna().sum().sort_values(ascending=False), columns=['NaNs'])\n",
    "new = new.loc[new['NaNs'] > 0]\n",
    "\n",
    "# new1 = pd.DataFrame(test.isna().sum().sort_values(ascending=False), columns=['NaNs'])\n",
    "# new1 = new1.loc[new1['NaNs'] > 0]"
   ]
  },
  {
   "cell_type": "code",
   "execution_count": 13,
   "id": "03f52f79",
   "metadata": {},
   "outputs": [
    {
     "data": {
      "text/html": [
       "<div>\n",
       "<style scoped>\n",
       "    .dataframe tbody tr th:only-of-type {\n",
       "        vertical-align: middle;\n",
       "    }\n",
       "\n",
       "    .dataframe tbody tr th {\n",
       "        vertical-align: top;\n",
       "    }\n",
       "\n",
       "    .dataframe thead th {\n",
       "        text-align: right;\n",
       "    }\n",
       "</style>\n",
       "<table border=\"1\" class=\"dataframe\">\n",
       "  <thead>\n",
       "    <tr style=\"text-align: right;\">\n",
       "      <th></th>\n",
       "      <th>NaNs</th>\n",
       "    </tr>\n",
       "  </thead>\n",
       "  <tbody>\n",
       "    <tr>\n",
       "      <th>GarageType</th>\n",
       "      <td>81</td>\n",
       "    </tr>\n",
       "    <tr>\n",
       "      <th>GarageYrBlt</th>\n",
       "      <td>81</td>\n",
       "    </tr>\n",
       "    <tr>\n",
       "      <th>GarageFinish</th>\n",
       "      <td>81</td>\n",
       "    </tr>\n",
       "    <tr>\n",
       "      <th>GarageQual</th>\n",
       "      <td>81</td>\n",
       "    </tr>\n",
       "    <tr>\n",
       "      <th>GarageCond</th>\n",
       "      <td>81</td>\n",
       "    </tr>\n",
       "  </tbody>\n",
       "</table>\n",
       "</div>"
      ],
      "text/plain": [
       "              NaNs\n",
       "GarageType      81\n",
       "GarageYrBlt     81\n",
       "GarageFinish    81\n",
       "GarageQual      81\n",
       "GarageCond      81"
      ]
     },
     "execution_count": 13,
     "metadata": {},
     "output_type": "execute_result"
    }
   ],
   "source": [
    "new.head()"
   ]
  },
  {
   "cell_type": "code",
   "execution_count": 14,
   "id": "cb2595e3",
   "metadata": {},
   "outputs": [],
   "source": [
    "# new1.head()"
   ]
  },
  {
   "cell_type": "markdown",
   "id": "d8a3fb84",
   "metadata": {},
   "source": [
    "After further consideration, I believe that the above features are not the main features we usually think about when buying a house, so I will drop all of them but Electrical: I will impute this missing value with either the mean or the mode."
   ]
  },
  {
   "cell_type": "code",
   "execution_count": 15,
   "id": "81a060dd",
   "metadata": {},
   "outputs": [],
   "source": [
    "electrical_mode = train['Electrical'].mode()\n",
    "train.fillna(electrical_mode[0], inplace=True)\n",
    "\n",
    "# electrical_mode1 = test['Electrical'].mode()\n",
    "# test.fillna(electrical_mode1[0], inplace=True)"
   ]
  },
  {
   "cell_type": "code",
   "execution_count": 16,
   "id": "d53b1957",
   "metadata": {},
   "outputs": [
    {
     "data": {
      "text/plain": [
       "0"
      ]
     },
     "execution_count": 16,
     "metadata": {},
     "output_type": "execute_result"
    }
   ],
   "source": [
    "train['Electrical'].isna().sum()"
   ]
  },
  {
   "cell_type": "code",
   "execution_count": 17,
   "id": "44c4c101",
   "metadata": {},
   "outputs": [],
   "source": [
    "# test['Electrical'].isna().sum()"
   ]
  },
  {
   "cell_type": "code",
   "execution_count": 18,
   "id": "a2eeb4c4",
   "metadata": {},
   "outputs": [],
   "source": [
    "to_drop = list(new.index).pop()\n",
    "\n",
    "train = train.drop(to_drop, axis=1)\n",
    "# test = test.drop(to_drop, axis=1)"
   ]
  },
  {
   "cell_type": "markdown",
   "id": "49db04db",
   "metadata": {},
   "source": [
    "Checking if there are still NaNs somewhere"
   ]
  },
  {
   "cell_type": "code",
   "execution_count": 19,
   "id": "9e419b32",
   "metadata": {},
   "outputs": [
    {
     "data": {
      "text/plain": [
       "False"
      ]
     },
     "execution_count": 19,
     "metadata": {},
     "output_type": "execute_result"
    }
   ],
   "source": [
    "train.isna().sum().any()"
   ]
  },
  {
   "cell_type": "code",
   "execution_count": 20,
   "id": "42185687",
   "metadata": {},
   "outputs": [],
   "source": [
    "# test.isna().sum().any()"
   ]
  },
  {
   "cell_type": "markdown",
   "id": "75dc302c",
   "metadata": {},
   "source": [
    "### Data Preprocessing"
   ]
  },
  {
   "cell_type": "code",
   "execution_count": 21,
   "id": "769a4f18",
   "metadata": {},
   "outputs": [],
   "source": [
    "numerical = train.select_dtypes(include='number')\n",
    "categorical = train.select_dtypes(include='object')\n",
    "\n",
    "# numerical1 = test.select_dtypes(include='number')\n",
    "# categorical1 = test.select_dtypes(include='object')"
   ]
  },
  {
   "cell_type": "markdown",
   "id": "bc63b85c",
   "metadata": {},
   "source": [
    "Since there are many categorical columns (39), I will encode them with the Label encoder."
   ]
  },
  {
   "cell_type": "code",
   "execution_count": 22,
   "id": "e6980b5e",
   "metadata": {},
   "outputs": [],
   "source": [
    "categorical_cols = categorical.columns.tolist()\n",
    "\n",
    "# categorical_cols1 = categorical1.columns.tolist()"
   ]
  },
  {
   "cell_type": "code",
   "execution_count": 23,
   "id": "7e51e749",
   "metadata": {
    "scrolled": true
   },
   "outputs": [
    {
     "name": "stdout",
     "output_type": "stream",
     "text": [
      "MSZoning: ['RL' 'RM' 'C (all)' 'FV' 'RH']\n",
      "Street: ['Pave' 'Grvl']\n",
      "LotShape: ['Reg' 'IR1' 'IR2' 'IR3']\n",
      "LandContour: ['Lvl' 'Bnk' 'Low' 'HLS']\n",
      "Utilities: ['AllPub' 'NoSeWa']\n",
      "LotConfig: ['Inside' 'FR2' 'Corner' 'CulDSac' 'FR3']\n",
      "LandSlope: ['Gtl' 'Mod' 'Sev']\n",
      "Neighborhood: ['CollgCr' 'Veenker' 'Crawfor' 'NoRidge' 'Mitchel' 'Somerst' 'NWAmes'\n",
      " 'OldTown' 'BrkSide' 'Sawyer' 'NridgHt' 'NAmes' 'SawyerW' 'IDOTRR'\n",
      " 'MeadowV' 'Edwards' 'Timber' 'Gilbert' 'StoneBr' 'ClearCr' 'NPkVill'\n",
      " 'Blmngtn' 'BrDale' 'SWISU' 'Blueste']\n",
      "Condition1: ['Norm' 'Feedr' 'PosN' 'Artery' 'RRAe' 'RRNn' 'RRAn' 'PosA' 'RRNe']\n",
      "Condition2: ['Norm' 'Artery' 'RRNn' 'Feedr' 'PosN' 'PosA' 'RRAn' 'RRAe']\n",
      "BldgType: ['1Fam' '2fmCon' 'Duplex' 'TwnhsE' 'Twnhs']\n",
      "HouseStyle: ['2Story' '1Story' '1.5Fin' '1.5Unf' 'SFoyer' 'SLvl' '2.5Unf' '2.5Fin']\n",
      "RoofStyle: ['Gable' 'Hip' 'Gambrel' 'Mansard' 'Flat' 'Shed']\n",
      "RoofMatl: ['CompShg' 'WdShngl' 'Metal' 'WdShake' 'Membran' 'Tar&Grv' 'Roll'\n",
      " 'ClyTile']\n",
      "Exterior1st: ['VinylSd' 'MetalSd' 'Wd Sdng' 'HdBoard' 'BrkFace' 'WdShing' 'CemntBd'\n",
      " 'Plywood' 'AsbShng' 'Stucco' 'BrkComm' 'AsphShn' 'Stone' 'ImStucc'\n",
      " 'CBlock']\n",
      "Exterior2nd: ['VinylSd' 'MetalSd' 'Wd Shng' 'HdBoard' 'Plywood' 'Wd Sdng' 'CmentBd'\n",
      " 'BrkFace' 'Stucco' 'AsbShng' 'Brk Cmn' 'ImStucc' 'AsphShn' 'Stone'\n",
      " 'Other' 'CBlock']\n",
      "MasVnrType: ['BrkFace' 'None' 'Stone' 'BrkCmn' 'SBrkr']\n",
      "MasVnrArea: [196.0 0.0 162.0 350.0 186.0 240.0 286.0 306.0 212.0 180.0 380.0 281.0\n",
      " 640.0 200.0 246.0 132.0 650.0 101.0 412.0 272.0 456.0 1031.0 178.0 573.0\n",
      " 344.0 287.0 167.0 1115.0 40.0 104.0 576.0 443.0 468.0 66.0 22.0 284.0\n",
      " 76.0 203.0 68.0 183.0 48.0 28.0 336.0 600.0 768.0 480.0 220.0 184.0\n",
      " 1129.0 116.0 135.0 266.0 85.0 309.0 136.0 288.0 70.0 320.0 50.0 120.0\n",
      " 436.0 252.0 84.0 664.0 226.0 300.0 653.0 112.0 491.0 268.0 748.0 98.0\n",
      " 275.0 138.0 205.0 262.0 128.0 260.0 153.0 64.0 312.0 16.0 922.0 142.0\n",
      " 290.0 127.0 506.0 297.0 'SBrkr' 604.0 254.0 36.0 102.0 472.0 481.0 108.0\n",
      " 302.0 172.0 399.0 270.0 46.0 210.0 174.0 348.0 315.0 299.0 340.0 166.0\n",
      " 72.0 31.0 34.0 238.0 1600.0 365.0 56.0 150.0 278.0 256.0 225.0 370.0\n",
      " 388.0 175.0 296.0 146.0 113.0 176.0 616.0 30.0 106.0 870.0 362.0 530.0\n",
      " 500.0 510.0 247.0 305.0 255.0 125.0 100.0 432.0 126.0 473.0 74.0 145.0\n",
      " 232.0 376.0 42.0 161.0 110.0 18.0 224.0 248.0 80.0 304.0 215.0 772.0\n",
      " 435.0 378.0 562.0 168.0 89.0 285.0 360.0 94.0 333.0 921.0 762.0 594.0\n",
      " 219.0 188.0 479.0 584.0 182.0 250.0 292.0 245.0 207.0 82.0 97.0 335.0\n",
      " 208.0 420.0 170.0 459.0 280.0 99.0 192.0 204.0 233.0 156.0 452.0 513.0\n",
      " 261.0 164.0 259.0 209.0 263.0 216.0 351.0 660.0 381.0 54.0 528.0 258.0\n",
      " 464.0 57.0 147.0 1170.0 293.0 630.0 466.0 109.0 41.0 160.0 289.0 651.0\n",
      " 169.0 95.0 442.0 202.0 338.0 894.0 328.0 673.0 603.0 1.0 375.0 90.0 38.0\n",
      " 157.0 11.0 140.0 130.0 148.0 860.0 424.0 1047.0 243.0 816.0 387.0 223.0\n",
      " 158.0 137.0 115.0 189.0 274.0 117.0 60.0 122.0 92.0 415.0 760.0 27.0 75.0\n",
      " 361.0 105.0 342.0 298.0 541.0 236.0 144.0 423.0 44.0 151.0 975.0 450.0\n",
      " 230.0 571.0 24.0 53.0 206.0 14.0 324.0 295.0 396.0 67.0 154.0 425.0 45.0\n",
      " 1378.0 337.0 149.0 143.0 51.0 171.0 234.0 63.0 766.0 32.0 81.0 163.0\n",
      " 554.0 218.0 632.0 114.0 567.0 359.0 451.0 621.0 788.0 86.0 796.0 391.0\n",
      " 228.0 88.0 165.0 428.0 410.0 564.0 368.0 318.0 579.0 65.0 705.0 408.0\n",
      " 244.0 123.0 366.0 731.0 448.0 294.0 310.0 237.0 426.0 96.0 438.0 194.0\n",
      " 119.0]\n",
      "ExterQual: ['Gd' 'TA' 'Ex' 'Fa']\n",
      "ExterCond: ['TA' 'Gd' 'Fa' 'Po' 'Ex']\n",
      "Foundation: ['PConc' 'CBlock' 'BrkTil' 'Wood' 'Slab' 'Stone']\n",
      "BsmtQual: ['Gd' 'TA' 'Ex' 'SBrkr' 'Fa']\n",
      "BsmtCond: ['TA' 'Gd' 'SBrkr' 'Fa' 'Po']\n",
      "BsmtExposure: ['No' 'Gd' 'Mn' 'Av' 'SBrkr']\n",
      "BsmtFinType1: ['GLQ' 'ALQ' 'Unf' 'Rec' 'BLQ' 'SBrkr' 'LwQ']\n",
      "BsmtFinType2: ['Unf' 'BLQ' 'SBrkr' 'ALQ' 'Rec' 'LwQ' 'GLQ']\n",
      "Heating: ['GasA' 'GasW' 'Grav' 'Wall' 'OthW' 'Floor']\n",
      "HeatingQC: ['Ex' 'Gd' 'TA' 'Fa' 'Po']\n",
      "CentralAir: ['Y' 'N']\n",
      "KitchenQual: ['Gd' 'TA' 'Ex' 'Fa']\n",
      "Functional: ['Typ' 'Min1' 'Maj1' 'Min2' 'Mod' 'Maj2' 'Sev']\n",
      "GarageType: ['Attchd' 'Detchd' 'BuiltIn' 'CarPort' 'SBrkr' 'Basment' '2Types']\n",
      "GarageYrBlt: [2003.0 1976.0 2001.0 1998.0 2000.0 1993.0 2004.0 1973.0 1931.0 1939.0\n",
      " 1965.0 2005.0 1962.0 2006.0 1960.0 1991.0 1970.0 1967.0 1958.0 1930.0\n",
      " 2002.0 1968.0 2007.0 2008.0 1957.0 1920.0 1966.0 1959.0 1995.0 1954.0\n",
      " 1953.0 'SBrkr' 1983.0 1977.0 1997.0 1985.0 1963.0 1981.0 1964.0 1999.0\n",
      " 1935.0 1990.0 1945.0 1987.0 1989.0 1915.0 1956.0 1948.0 1974.0 2009.0\n",
      " 1950.0 1961.0 1921.0 1900.0 1979.0 1951.0 1969.0 1936.0 1975.0 1971.0\n",
      " 1923.0 1984.0 1926.0 1955.0 1986.0 1988.0 1916.0 1932.0 1972.0 1918.0\n",
      " 1980.0 1924.0 1996.0 1940.0 1949.0 1994.0 1910.0 1978.0 1982.0 1992.0\n",
      " 1925.0 1941.0 2010.0 1927.0 1947.0 1937.0 1942.0 1938.0 1952.0 1928.0\n",
      " 1922.0 1934.0 1906.0 1914.0 1946.0 1908.0 1929.0 1933.0]\n",
      "GarageFinish: ['RFn' 'Unf' 'Fin' 'SBrkr']\n",
      "GarageQual: ['TA' 'Fa' 'Gd' 'SBrkr' 'Ex' 'Po']\n",
      "GarageCond: ['TA' 'Fa' 'SBrkr' 'Gd' 'Po' 'Ex']\n",
      "PavedDrive: ['Y' 'N' 'P']\n",
      "SaleType: ['WD' 'New' 'COD' 'ConLD' 'ConLI' 'CWD' 'ConLw' 'Con' 'Oth']\n",
      "SaleCondition: ['Normal' 'Abnorml' 'Partial' 'AdjLand' 'Alloca' 'Family']\n"
     ]
    }
   ],
   "source": [
    "for col in categorical_cols:\n",
    "    print(f\"{col}: {categorical[col].unique()}\")"
   ]
  },
  {
   "cell_type": "markdown",
   "id": "c8b80473",
   "metadata": {},
   "source": [
    "I don't believe MasVnrArea and GarageYrBlt are pivotal for the model, so I will remove them."
   ]
  },
  {
   "cell_type": "code",
   "execution_count": 24,
   "id": "bd3bc03e",
   "metadata": {},
   "outputs": [],
   "source": [
    "to_drop = ['MasVnrArea', 'GarageYrBlt']\n",
    "\n",
    "# Train\n",
    "categorical = categorical.drop(columns=to_drop)\n",
    "train = train.drop(columns=to_drop)\n",
    "categorical_cols = [x for x in categorical_cols if x not in to_drop]\n",
    "\n",
    "#Test\n",
    "# categorical1 = categorical1.drop(columns=to_drop)\n",
    "# test = test.drop(columns=to_drop)\n",
    "# categorical_cols1 = [x for x in categorical_cols1 if x not in to_drop]"
   ]
  },
  {
   "cell_type": "code",
   "execution_count": 25,
   "id": "1a862669",
   "metadata": {
    "scrolled": true
   },
   "outputs": [
    {
     "name": "stdout",
     "output_type": "stream",
     "text": [
      "MSZoning: ['RL' 'RM' 'C (all)' 'FV' 'RH']\n",
      "Street: ['Pave' 'Grvl']\n",
      "LotShape: ['Reg' 'IR1' 'IR2' 'IR3']\n",
      "LandContour: ['Lvl' 'Bnk' 'Low' 'HLS']\n",
      "Utilities: ['AllPub' 'NoSeWa']\n",
      "LotConfig: ['Inside' 'FR2' 'Corner' 'CulDSac' 'FR3']\n",
      "LandSlope: ['Gtl' 'Mod' 'Sev']\n",
      "Neighborhood: ['CollgCr' 'Veenker' 'Crawfor' 'NoRidge' 'Mitchel' 'Somerst' 'NWAmes'\n",
      " 'OldTown' 'BrkSide' 'Sawyer' 'NridgHt' 'NAmes' 'SawyerW' 'IDOTRR'\n",
      " 'MeadowV' 'Edwards' 'Timber' 'Gilbert' 'StoneBr' 'ClearCr' 'NPkVill'\n",
      " 'Blmngtn' 'BrDale' 'SWISU' 'Blueste']\n",
      "Condition1: ['Norm' 'Feedr' 'PosN' 'Artery' 'RRAe' 'RRNn' 'RRAn' 'PosA' 'RRNe']\n",
      "Condition2: ['Norm' 'Artery' 'RRNn' 'Feedr' 'PosN' 'PosA' 'RRAn' 'RRAe']\n",
      "BldgType: ['1Fam' '2fmCon' 'Duplex' 'TwnhsE' 'Twnhs']\n",
      "HouseStyle: ['2Story' '1Story' '1.5Fin' '1.5Unf' 'SFoyer' 'SLvl' '2.5Unf' '2.5Fin']\n",
      "RoofStyle: ['Gable' 'Hip' 'Gambrel' 'Mansard' 'Flat' 'Shed']\n",
      "RoofMatl: ['CompShg' 'WdShngl' 'Metal' 'WdShake' 'Membran' 'Tar&Grv' 'Roll'\n",
      " 'ClyTile']\n",
      "Exterior1st: ['VinylSd' 'MetalSd' 'Wd Sdng' 'HdBoard' 'BrkFace' 'WdShing' 'CemntBd'\n",
      " 'Plywood' 'AsbShng' 'Stucco' 'BrkComm' 'AsphShn' 'Stone' 'ImStucc'\n",
      " 'CBlock']\n",
      "Exterior2nd: ['VinylSd' 'MetalSd' 'Wd Shng' 'HdBoard' 'Plywood' 'Wd Sdng' 'CmentBd'\n",
      " 'BrkFace' 'Stucco' 'AsbShng' 'Brk Cmn' 'ImStucc' 'AsphShn' 'Stone'\n",
      " 'Other' 'CBlock']\n",
      "MasVnrType: ['BrkFace' 'None' 'Stone' 'BrkCmn' 'SBrkr']\n",
      "ExterQual: ['Gd' 'TA' 'Ex' 'Fa']\n",
      "ExterCond: ['TA' 'Gd' 'Fa' 'Po' 'Ex']\n",
      "Foundation: ['PConc' 'CBlock' 'BrkTil' 'Wood' 'Slab' 'Stone']\n",
      "BsmtQual: ['Gd' 'TA' 'Ex' 'SBrkr' 'Fa']\n",
      "BsmtCond: ['TA' 'Gd' 'SBrkr' 'Fa' 'Po']\n",
      "BsmtExposure: ['No' 'Gd' 'Mn' 'Av' 'SBrkr']\n",
      "BsmtFinType1: ['GLQ' 'ALQ' 'Unf' 'Rec' 'BLQ' 'SBrkr' 'LwQ']\n",
      "BsmtFinType2: ['Unf' 'BLQ' 'SBrkr' 'ALQ' 'Rec' 'LwQ' 'GLQ']\n",
      "Heating: ['GasA' 'GasW' 'Grav' 'Wall' 'OthW' 'Floor']\n",
      "HeatingQC: ['Ex' 'Gd' 'TA' 'Fa' 'Po']\n",
      "CentralAir: ['Y' 'N']\n",
      "KitchenQual: ['Gd' 'TA' 'Ex' 'Fa']\n",
      "Functional: ['Typ' 'Min1' 'Maj1' 'Min2' 'Mod' 'Maj2' 'Sev']\n",
      "GarageType: ['Attchd' 'Detchd' 'BuiltIn' 'CarPort' 'SBrkr' 'Basment' '2Types']\n",
      "GarageFinish: ['RFn' 'Unf' 'Fin' 'SBrkr']\n",
      "GarageQual: ['TA' 'Fa' 'Gd' 'SBrkr' 'Ex' 'Po']\n",
      "GarageCond: ['TA' 'Fa' 'SBrkr' 'Gd' 'Po' 'Ex']\n",
      "PavedDrive: ['Y' 'N' 'P']\n",
      "SaleType: ['WD' 'New' 'COD' 'ConLD' 'ConLI' 'CWD' 'ConLw' 'Con' 'Oth']\n",
      "SaleCondition: ['Normal' 'Abnorml' 'Partial' 'AdjLand' 'Alloca' 'Family']\n"
     ]
    }
   ],
   "source": [
    "for col in categorical_cols:\n",
    "    print(f\"{col}: {categorical[col].unique()}\")"
   ]
  },
  {
   "cell_type": "markdown",
   "id": "4d739b0a",
   "metadata": {},
   "source": [
    "### I'll label-encode the categorical data"
   ]
  },
  {
   "cell_type": "code",
   "execution_count": 26,
   "id": "6ea9c498",
   "metadata": {},
   "outputs": [],
   "source": [
    "from sklearn.preprocessing import LabelEncoder"
   ]
  },
  {
   "cell_type": "code",
   "execution_count": 27,
   "id": "74a52205",
   "metadata": {},
   "outputs": [
    {
     "data": {
      "text/html": [
       "<div>\n",
       "<style scoped>\n",
       "    .dataframe tbody tr th:only-of-type {\n",
       "        vertical-align: middle;\n",
       "    }\n",
       "\n",
       "    .dataframe tbody tr th {\n",
       "        vertical-align: top;\n",
       "    }\n",
       "\n",
       "    .dataframe thead th {\n",
       "        text-align: right;\n",
       "    }\n",
       "</style>\n",
       "<table border=\"1\" class=\"dataframe\">\n",
       "  <thead>\n",
       "    <tr style=\"text-align: right;\">\n",
       "      <th></th>\n",
       "      <th>MSZoning</th>\n",
       "      <th>Street</th>\n",
       "      <th>LotShape</th>\n",
       "      <th>LandContour</th>\n",
       "      <th>Utilities</th>\n",
       "      <th>LotConfig</th>\n",
       "      <th>LandSlope</th>\n",
       "      <th>Neighborhood</th>\n",
       "      <th>Condition1</th>\n",
       "      <th>Condition2</th>\n",
       "      <th>...</th>\n",
       "      <th>CentralAir</th>\n",
       "      <th>KitchenQual</th>\n",
       "      <th>Functional</th>\n",
       "      <th>GarageType</th>\n",
       "      <th>GarageFinish</th>\n",
       "      <th>GarageQual</th>\n",
       "      <th>GarageCond</th>\n",
       "      <th>PavedDrive</th>\n",
       "      <th>SaleType</th>\n",
       "      <th>SaleCondition</th>\n",
       "    </tr>\n",
       "    <tr>\n",
       "      <th>Id</th>\n",
       "      <th></th>\n",
       "      <th></th>\n",
       "      <th></th>\n",
       "      <th></th>\n",
       "      <th></th>\n",
       "      <th></th>\n",
       "      <th></th>\n",
       "      <th></th>\n",
       "      <th></th>\n",
       "      <th></th>\n",
       "      <th></th>\n",
       "      <th></th>\n",
       "      <th></th>\n",
       "      <th></th>\n",
       "      <th></th>\n",
       "      <th></th>\n",
       "      <th></th>\n",
       "      <th></th>\n",
       "      <th></th>\n",
       "      <th></th>\n",
       "      <th></th>\n",
       "    </tr>\n",
       "  </thead>\n",
       "  <tbody>\n",
       "    <tr>\n",
       "      <th>1</th>\n",
       "      <td>RL</td>\n",
       "      <td>Pave</td>\n",
       "      <td>Reg</td>\n",
       "      <td>Lvl</td>\n",
       "      <td>AllPub</td>\n",
       "      <td>Inside</td>\n",
       "      <td>Gtl</td>\n",
       "      <td>CollgCr</td>\n",
       "      <td>Norm</td>\n",
       "      <td>Norm</td>\n",
       "      <td>...</td>\n",
       "      <td>Y</td>\n",
       "      <td>Gd</td>\n",
       "      <td>Typ</td>\n",
       "      <td>Attchd</td>\n",
       "      <td>RFn</td>\n",
       "      <td>TA</td>\n",
       "      <td>TA</td>\n",
       "      <td>Y</td>\n",
       "      <td>WD</td>\n",
       "      <td>Normal</td>\n",
       "    </tr>\n",
       "    <tr>\n",
       "      <th>2</th>\n",
       "      <td>RL</td>\n",
       "      <td>Pave</td>\n",
       "      <td>Reg</td>\n",
       "      <td>Lvl</td>\n",
       "      <td>AllPub</td>\n",
       "      <td>FR2</td>\n",
       "      <td>Gtl</td>\n",
       "      <td>Veenker</td>\n",
       "      <td>Feedr</td>\n",
       "      <td>Norm</td>\n",
       "      <td>...</td>\n",
       "      <td>Y</td>\n",
       "      <td>TA</td>\n",
       "      <td>Typ</td>\n",
       "      <td>Attchd</td>\n",
       "      <td>RFn</td>\n",
       "      <td>TA</td>\n",
       "      <td>TA</td>\n",
       "      <td>Y</td>\n",
       "      <td>WD</td>\n",
       "      <td>Normal</td>\n",
       "    </tr>\n",
       "    <tr>\n",
       "      <th>3</th>\n",
       "      <td>RL</td>\n",
       "      <td>Pave</td>\n",
       "      <td>IR1</td>\n",
       "      <td>Lvl</td>\n",
       "      <td>AllPub</td>\n",
       "      <td>Inside</td>\n",
       "      <td>Gtl</td>\n",
       "      <td>CollgCr</td>\n",
       "      <td>Norm</td>\n",
       "      <td>Norm</td>\n",
       "      <td>...</td>\n",
       "      <td>Y</td>\n",
       "      <td>Gd</td>\n",
       "      <td>Typ</td>\n",
       "      <td>Attchd</td>\n",
       "      <td>RFn</td>\n",
       "      <td>TA</td>\n",
       "      <td>TA</td>\n",
       "      <td>Y</td>\n",
       "      <td>WD</td>\n",
       "      <td>Normal</td>\n",
       "    </tr>\n",
       "    <tr>\n",
       "      <th>4</th>\n",
       "      <td>RL</td>\n",
       "      <td>Pave</td>\n",
       "      <td>IR1</td>\n",
       "      <td>Lvl</td>\n",
       "      <td>AllPub</td>\n",
       "      <td>Corner</td>\n",
       "      <td>Gtl</td>\n",
       "      <td>Crawfor</td>\n",
       "      <td>Norm</td>\n",
       "      <td>Norm</td>\n",
       "      <td>...</td>\n",
       "      <td>Y</td>\n",
       "      <td>Gd</td>\n",
       "      <td>Typ</td>\n",
       "      <td>Detchd</td>\n",
       "      <td>Unf</td>\n",
       "      <td>TA</td>\n",
       "      <td>TA</td>\n",
       "      <td>Y</td>\n",
       "      <td>WD</td>\n",
       "      <td>Abnorml</td>\n",
       "    </tr>\n",
       "    <tr>\n",
       "      <th>5</th>\n",
       "      <td>RL</td>\n",
       "      <td>Pave</td>\n",
       "      <td>IR1</td>\n",
       "      <td>Lvl</td>\n",
       "      <td>AllPub</td>\n",
       "      <td>FR2</td>\n",
       "      <td>Gtl</td>\n",
       "      <td>NoRidge</td>\n",
       "      <td>Norm</td>\n",
       "      <td>Norm</td>\n",
       "      <td>...</td>\n",
       "      <td>Y</td>\n",
       "      <td>Gd</td>\n",
       "      <td>Typ</td>\n",
       "      <td>Attchd</td>\n",
       "      <td>RFn</td>\n",
       "      <td>TA</td>\n",
       "      <td>TA</td>\n",
       "      <td>Y</td>\n",
       "      <td>WD</td>\n",
       "      <td>Normal</td>\n",
       "    </tr>\n",
       "  </tbody>\n",
       "</table>\n",
       "<p>5 rows × 37 columns</p>\n",
       "</div>"
      ],
      "text/plain": [
       "   MSZoning Street LotShape LandContour Utilities LotConfig LandSlope  \\\n",
       "Id                                                                      \n",
       "1        RL   Pave      Reg         Lvl    AllPub    Inside       Gtl   \n",
       "2        RL   Pave      Reg         Lvl    AllPub       FR2       Gtl   \n",
       "3        RL   Pave      IR1         Lvl    AllPub    Inside       Gtl   \n",
       "4        RL   Pave      IR1         Lvl    AllPub    Corner       Gtl   \n",
       "5        RL   Pave      IR1         Lvl    AllPub       FR2       Gtl   \n",
       "\n",
       "   Neighborhood Condition1 Condition2  ... CentralAir KitchenQual Functional  \\\n",
       "Id                                     ...                                     \n",
       "1       CollgCr       Norm       Norm  ...          Y          Gd        Typ   \n",
       "2       Veenker      Feedr       Norm  ...          Y          TA        Typ   \n",
       "3       CollgCr       Norm       Norm  ...          Y          Gd        Typ   \n",
       "4       Crawfor       Norm       Norm  ...          Y          Gd        Typ   \n",
       "5       NoRidge       Norm       Norm  ...          Y          Gd        Typ   \n",
       "\n",
       "   GarageType GarageFinish GarageQual GarageCond PavedDrive SaleType  \\\n",
       "Id                                                                     \n",
       "1      Attchd          RFn         TA         TA          Y       WD   \n",
       "2      Attchd          RFn         TA         TA          Y       WD   \n",
       "3      Attchd          RFn         TA         TA          Y       WD   \n",
       "4      Detchd          Unf         TA         TA          Y       WD   \n",
       "5      Attchd          RFn         TA         TA          Y       WD   \n",
       "\n",
       "   SaleCondition  \n",
       "Id                \n",
       "1         Normal  \n",
       "2         Normal  \n",
       "3         Normal  \n",
       "4        Abnorml  \n",
       "5         Normal  \n",
       "\n",
       "[5 rows x 37 columns]"
      ]
     },
     "execution_count": 27,
     "metadata": {},
     "output_type": "execute_result"
    }
   ],
   "source": [
    "train[categorical_cols].head()"
   ]
  },
  {
   "cell_type": "code",
   "execution_count": 28,
   "id": "fea8055a",
   "metadata": {},
   "outputs": [],
   "source": [
    "encoder = LabelEncoder()\n",
    "# encoder1 = LabelEncoder()\n",
    "\n",
    "#Train\n",
    "train[categorical_cols] = train[categorical_cols].apply(lambda col: encoder.fit_transform(col))\n",
    "\n",
    "#Test\n",
    "# test[categorical_cols1] = test[categorical_cols1].apply(lambda col: encoder1.fit_transform(col))"
   ]
  },
  {
   "cell_type": "code",
   "execution_count": 29,
   "id": "5581f4e4",
   "metadata": {},
   "outputs": [
    {
     "data": {
      "text/plain": [
       "[]"
      ]
     },
     "execution_count": 29,
     "metadata": {},
     "output_type": "execute_result"
    }
   ],
   "source": [
    "# How to find columns where a specific value is present\n",
    "value_to_find = 'SBrkr'\n",
    "\n",
    "columns_with_value = train.columns[train.eq(value_to_find).any()].tolist()\n",
    "columns_with_value"
   ]
  },
  {
   "cell_type": "markdown",
   "id": "ec69a781",
   "metadata": {},
   "source": [
    "## Let's work as well on numerical data"
   ]
  },
  {
   "cell_type": "markdown",
   "id": "3685d2c3",
   "metadata": {},
   "source": [
    "### Outliers"
   ]
  },
  {
   "cell_type": "code",
   "execution_count": 30,
   "id": "b5d24669",
   "metadata": {},
   "outputs": [],
   "source": [
    "def outliers_list_and_boxplot(df, columns):\n",
    "    for col in columns:\n",
    "        out_lower = []\n",
    "        out_upper = []\n",
    "        column_data = df[col]\n",
    "\n",
    "        q1 = column_data.quantile(0.25)\n",
    "        q3 = column_data.quantile(0.75)\n",
    "        iqr = q3 - q1\n",
    "        lower_end = q1 - 1.5 * iqr\n",
    "        upper_end = q3 + 1.5 * iqr\n",
    "\n",
    "        for value in column_data:\n",
    "            if value < lower_end:\n",
    "                out_lower.append(value)\n",
    "            elif value > upper_end:\n",
    "                out_upper.append(value)\n",
    "\n",
    "        out_lower = sorted(out_lower)\n",
    "        out_upper = sorted(out_upper)\n",
    "        \n",
    "        plt.figure(figsize=(3, 2))\n",
    "        sns.boxplot(column_data)\n",
    "        plt.show()\n",
    "\n",
    "        print(f'Low Outliers in {col}: {out_lower}')\n",
    "        print(f'Upper Outliers in {col}: {out_upper}')\n",
    "        print()\n",
    "        print()"
   ]
  },
  {
   "cell_type": "markdown",
   "id": "dee40058",
   "metadata": {},
   "source": [
    "I would like to make some columns binary, as they have too many 0's and I think it's more valuable to know if the feature is at all there or not."
   ]
  },
  {
   "cell_type": "code",
   "execution_count": 31,
   "id": "646eba5d",
   "metadata": {},
   "outputs": [],
   "source": [
    "cols_to_binary = ['TotalBsmtSF', 'BsmtHalfBath', 'KitchenAbvGr', 'Fireplaces', 'EnclosedPorch', '3SsnPorch',\n",
    "                  'ScreenPorch', 'PoolArea', ]\n",
    "\n",
    "# Transforming the columns and at the same time adding them to the train dataset\n",
    "\n",
    "for col in cols_to_binary:\n",
    "    \n",
    "    #Train\n",
    "    train[f'Is_{col}'] = numerical[col].apply(lambda x: 1 if x!=0 else 0)\n",
    "    \n",
    "    #Test\n",
    "#     test[f'Is_{col}'] = numerical1[col].apply(lambda x: 1 if x!=0 else 0)\n",
    "    \n",
    "numerical = numerical.drop(cols_to_binary, axis=1)\n",
    "# numerical1 = numerical1.drop(cols_to_binary, axis=1)"
   ]
  },
  {
   "cell_type": "code",
   "execution_count": 32,
   "id": "6638df72",
   "metadata": {
    "scrolled": true
   },
   "outputs": [
    {
     "data": {
      "image/png": "[encoded data removed]",
      "text/plain": [
       "<Figure size 300x200 with 1 Axes>"
      ]
     },
     "metadata": {},
     "output_type": "display_data"
    },
    {
     "name": "stdout",
     "output_type": "stream",
     "text": [
      "Low Outliers in MSSubClass: []\n",
      "Upper Outliers in MSSubClass: [160, 160, 160, 160, 160, 160, 160, 160, 160, 160, 160, 160, 160, 160, 160, 160, 160, 160, 160, 160, 160, 160, 160, 160, 160, 160, 160, 160, 160, 160, 160, 160, 160, 160, 160, 160, 160, 160, 160, 160, 160, 160, 160, 160, 160, 160, 160, 160, 160, 160, 160, 160, 160, 160, 160, 160, 160, 160, 160, 160, 160, 160, 160, 180, 180, 180, 180, 180, 180, 180, 180, 180, 180, 190, 190, 190, 190, 190, 190, 190, 190, 190, 190, 190, 190, 190, 190, 190, 190, 190, 190, 190, 190, 190, 190, 190, 190, 190, 190, 190, 190, 190, 190]\n",
      "\n",
      "\n"
     ]
    },
    {
     "data": {
      "image/png": "[encoded data removed]",
      "text/plain": [
       "<Figure size 300x200 with 1 Axes>"
      ]
     },
     "metadata": {},
     "output_type": "display_data"
    },
    {
     "name": "stdout",
     "output_type": "stream",
     "text": [
      "Low Outliers in LotArea: [1300, 1477]\n",
      "Upper Outliers in LotArea: [17755, 17871, 17920, 18000, 18030, 18386, 18450, 18800, 18890, 19138, 19296, 19378, 19690, 19900, 20431, 20544, 20781, 20896, 21000, 21286, 21384, 21453, 21535, 21695, 21750, 21750, 21780, 21872, 21930, 22420, 22950, 23257, 23595, 24090, 24682, 25000, 25095, 25286, 25339, 25419, 26142, 26178, 27650, 28698, 29959, 31770, 32463, 32668, 34650, 35133, 35760, 36500, 39104, 40094, 45600, 46589, 50271, 53107, 53227, 53504, 57200, 63887, 70761, 115149, 159000, 164660, 215245]\n",
      "\n",
      "\n"
     ]
    },
    {
     "data": {
      "image/png": "[encoded data removed]",
      "text/plain": [
       "<Figure size 300x200 with 1 Axes>"
      ]
     },
     "metadata": {},
     "output_type": "display_data"
    },
    {
     "name": "stdout",
     "output_type": "stream",
     "text": [
      "Low Outliers in OverallQual: [1, 1]\n",
      "Upper Outliers in OverallQual: []\n",
      "\n",
      "\n"
     ]
    },
    {
     "data": {
      "image/png": "[encoded data removed]",
      "text/plain": [
       "<Figure size 300x200 with 1 Axes>"
      ]
     },
     "metadata": {},
     "output_type": "display_data"
    },
    {
     "name": "stdout",
     "output_type": "stream",
     "text": [
      "Low Outliers in OverallCond: [1, 2, 2, 2, 2, 2, 3, 3, 3, 3, 3, 3, 3, 3, 3, 3, 3, 3, 3, 3, 3, 3, 3, 3, 3, 3, 3, 3, 3, 3, 3]\n",
      "Upper Outliers in OverallCond: [8, 8, 8, 8, 8, 8, 8, 8, 8, 8, 8, 8, 8, 8, 8, 8, 8, 8, 8, 8, 8, 8, 8, 8, 8, 8, 8, 8, 8, 8, 8, 8, 8, 8, 8, 8, 8, 8, 8, 8, 8, 8, 8, 8, 8, 8, 8, 8, 8, 8, 8, 8, 8, 8, 8, 8, 8, 8, 8, 8, 8, 8, 8, 8, 8, 8, 8, 8, 8, 8, 8, 8, 9, 9, 9, 9, 9, 9, 9, 9, 9, 9, 9, 9, 9, 9, 9, 9, 9, 9, 9, 9, 9, 9]\n",
      "\n",
      "\n"
     ]
    },
    {
     "data": {
      "image/png": "[encoded data removed]",
      "text/plain": [
       "<Figure size 300x200 with 1 Axes>"
      ]
     },
     "metadata": {},
     "output_type": "display_data"
    },
    {
     "name": "stdout",
     "output_type": "stream",
     "text": [
      "Low Outliers in YearBuilt: [1872, 1875, 1880, 1880, 1880, 1880, 1882]\n",
      "Upper Outliers in YearBuilt: []\n",
      "\n",
      "\n"
     ]
    },
    {
     "data": {
      "image/png": "[encoded data removed]",
      "text/plain": [
       "<Figure size 300x200 with 1 Axes>"
      ]
     },
     "metadata": {},
     "output_type": "display_data"
    },
    {
     "name": "stdout",
     "output_type": "stream",
     "text": [
      "Low Outliers in YearRemodAdd: []\n",
      "Upper Outliers in YearRemodAdd: []\n",
      "\n",
      "\n"
     ]
    },
    {
     "data": {
      "image/png": "[encoded data removed]",
      "text/plain": [
       "<Figure size 300x200 with 1 Axes>"
      ]
     },
     "metadata": {},
     "output_type": "display_data"
    },
    {
     "name": "stdout",
     "output_type": "stream",
     "text": [
      "Low Outliers in BsmtFinSF1: []\n",
      "Upper Outliers in BsmtFinSF1: [1810, 1880, 1904, 2096, 2188, 2260, 5644]\n",
      "\n",
      "\n"
     ]
    },
    {
     "data": {
      "image/png": "[encoded data removed]",
      "text/plain": [
       "<Figure size 300x200 with 1 Axes>"
      ]
     },
     "metadata": {},
     "output_type": "display_data"
    },
    {
     "name": "stdout",
     "output_type": "stream",
     "text": [
      "Low Outliers in BsmtFinSF2: []\n",
      "Upper Outliers in BsmtFinSF2: [28, 32, 35, 40, 41, 41, 64, 64, 68, 80, 81, 93, 93, 96, 96, 105, 106, 108, 110, 117, 117, 119, 121, 123, 125, 127, 128, 132, 139, 144, 147, 147, 149, 150, 163, 165, 168, 169, 173, 174, 175, 177, 180, 180, 180, 180, 180, 181, 182, 182, 184, 193, 202, 208, 210, 211, 215, 219, 228, 230, 232, 239, 240, 258, 264, 273, 276, 279, 279, 287, 287, 290, 290, 294, 294, 306, 311, 324, 334, 336, 344, 345, 352, 354, 362, 374, 374, 374, 375, 377, 380, 391, 391, 396, 400, 411, 420, 435, 438, 441, 465, 466, 468, 468, 469, 469, 472, 479, 480, 480, 486, 491, 492, 495, 499, 500, 506, 531, 532, 539, 539, 544, 546, 547, 551, 551, 557, 580, 600, 606, 608, 612, 620, 627, 630, 634, 645, 661, 668, 670, 682, 690, 692, 712, 712, 713, 723, 764, 768, 791, 820, 823, 841, 869, 872, 906, 972, 1029, 1031, 1057, 1061, 1063, 1080, 1085, 1120, 1127, 1474]\n",
      "\n",
      "\n"
     ]
    },
    {
     "data": {
      "image/png": "[encoded data removed]",
      "text/plain": [
       "<Figure size 300x200 with 1 Axes>"
      ]
     },
     "metadata": {},
     "output_type": "display_data"
    },
    {
     "name": "stdout",
     "output_type": "stream",
     "text": [
      "Low Outliers in BsmtUnfSF: []\n",
      "Upper Outliers in BsmtUnfSF: [1686, 1689, 1694, 1694, 1709, 1710, 1734, 1752, 1753, 1753, 1768, 1774, 1777, 1795, 1800, 1800, 1836, 1869, 1905, 1907, 1926, 1935, 1969, 2002, 2042, 2046, 2121, 2153, 2336]\n",
      "\n",
      "\n"
     ]
    },
    {
     "data": {
      "image/png": "[encoded data removed]",
      "text/plain": [
       "<Figure size 300x200 with 1 Axes>"
      ]
     },
     "metadata": {},
     "output_type": "display_data"
    },
    {
     "name": "stdout",
     "output_type": "stream",
     "text": [
      "Low Outliers in 1stFlrSF: []\n",
      "Upper Outliers in 1stFlrSF: [2156, 2158, 2196, 2207, 2217, 2223, 2234, 2259, 2364, 2392, 2402, 2411, 2444, 2515, 2524, 2633, 2898, 3138, 3228, 4692]\n",
      "\n",
      "\n"
     ]
    },
    {
     "data": {
      "image/png": "[encoded data removed]",
      "text/plain": [
       "<Figure size 300x200 with 1 Axes>"
      ]
     },
     "metadata": {},
     "output_type": "display_data"
    },
    {
     "name": "stdout",
     "output_type": "stream",
     "text": [
      "Low Outliers in 2ndFlrSF: []\n",
      "Upper Outliers in 2ndFlrSF: [1872, 2065]\n",
      "\n",
      "\n"
     ]
    },
    {
     "data": {
      "image/png": "[encoded data removed]",
      "text/plain": [
       "<Figure size 300x200 with 1 Axes>"
      ]
     },
     "metadata": {},
     "output_type": "display_data"
    },
    {
     "name": "stdout",
     "output_type": "stream",
     "text": [
      "Low Outliers in LowQualFinSF: []\n",
      "Upper Outliers in LowQualFinSF: [53, 80, 80, 80, 120, 144, 156, 205, 232, 234, 360, 360, 371, 384, 390, 392, 397, 420, 473, 479, 481, 513, 514, 515, 528, 572]\n",
      "\n",
      "\n"
     ]
    },
    {
     "data": {
      "image/png": "[encoded data removed]",
      "text/plain": [
       "<Figure size 300x200 with 1 Axes>"
      ]
     },
     "metadata": {},
     "output_type": "display_data"
    },
    {
     "name": "stdout",
     "output_type": "stream",
     "text": [
      "Low Outliers in GrLivArea: []\n",
      "Upper Outliers in GrLivArea: [2775, 2784, 2792, 2794, 2810, 2822, 2828, 2868, 2872, 2872, 2898, 2945, 2978, 3082, 3086, 3112, 3140, 3194, 3222, 3228, 3238, 3279, 3395, 3447, 3493, 3608, 3627, 4316, 4476, 4676, 5642]\n",
      "\n",
      "\n"
     ]
    },
    {
     "data": {
      "image/png": "[encoded data removed]",
      "text/plain": [
       "<Figure size 300x200 with 1 Axes>"
      ]
     },
     "metadata": {},
     "output_type": "display_data"
    },
    {
     "name": "stdout",
     "output_type": "stream",
     "text": [
      "Low Outliers in BsmtFullBath: []\n",
      "Upper Outliers in BsmtFullBath: [3]\n",
      "\n",
      "\n"
     ]
    },
    {
     "data": {
      "image/png": "[encoded data removed]",
      "text/plain": [
       "<Figure size 300x200 with 1 Axes>"
      ]
     },
     "metadata": {},
     "output_type": "display_data"
    },
    {
     "name": "stdout",
     "output_type": "stream",
     "text": [
      "Low Outliers in FullBath: []\n",
      "Upper Outliers in FullBath: []\n",
      "\n",
      "\n"
     ]
    },
    {
     "data": {
      "image/png": "[encoded data removed]",
      "text/plain": [
       "<Figure size 300x200 with 1 Axes>"
      ]
     },
     "metadata": {},
     "output_type": "display_data"
    },
    {
     "name": "stdout",
     "output_type": "stream",
     "text": [
      "Low Outliers in HalfBath: []\n",
      "Upper Outliers in HalfBath: []\n",
      "\n",
      "\n"
     ]
    },
    {
     "data": {
      "image/png": "[encoded data removed]",
      "text/plain": [
       "<Figure size 300x200 with 1 Axes>"
      ]
     },
     "metadata": {},
     "output_type": "display_data"
    },
    {
     "name": "stdout",
     "output_type": "stream",
     "text": [
      "Low Outliers in BedroomAbvGr: [0, 0, 0, 0, 0, 0]\n",
      "Upper Outliers in BedroomAbvGr: [5, 5, 5, 5, 5, 5, 5, 5, 5, 5, 5, 5, 5, 5, 5, 5, 5, 5, 5, 5, 5, 6, 6, 6, 6, 6, 6, 6, 8]\n",
      "\n",
      "\n"
     ]
    },
    {
     "data": {
      "image/png": "[encoded data removed]",
      "text/plain": [
       "<Figure size 300x200 with 1 Axes>"
      ]
     },
     "metadata": {},
     "output_type": "display_data"
    },
    {
     "name": "stdout",
     "output_type": "stream",
     "text": [
      "Low Outliers in TotRmsAbvGrd: []\n",
      "Upper Outliers in TotRmsAbvGrd: [11, 11, 11, 11, 11, 11, 11, 11, 11, 11, 11, 11, 11, 11, 11, 11, 11, 11, 12, 12, 12, 12, 12, 12, 12, 12, 12, 12, 12, 14]\n",
      "\n",
      "\n"
     ]
    },
    {
     "data": {
      "image/png": "[encoded data removed]",
      "text/plain": [
       "<Figure size 300x200 with 1 Axes>"
      ]
     },
     "metadata": {},
     "output_type": "display_data"
    },
    {
     "name": "stdout",
     "output_type": "stream",
     "text": [
      "Low Outliers in GarageCars: []\n",
      "Upper Outliers in GarageCars: [4, 4, 4, 4, 4]\n",
      "\n",
      "\n"
     ]
    },
    {
     "data": {
      "image/png": "[encoded data removed]",
      "text/plain": [
       "<Figure size 300x200 with 1 Axes>"
      ]
     },
     "metadata": {},
     "output_type": "display_data"
    },
    {
     "name": "stdout",
     "output_type": "stream",
     "text": [
      "Low Outliers in GarageArea: []\n",
      "Upper Outliers in GarageArea: [947, 954, 968, 968, 983, 995, 1014, 1020, 1025, 1043, 1052, 1052, 1053, 1069, 1134, 1166, 1220, 1248, 1356, 1390, 1418]\n",
      "\n",
      "\n"
     ]
    },
    {
     "data": {
      "image/png": "[encoded data removed]",
      "text/plain": [
       "<Figure size 300x200 with 1 Axes>"
      ]
     },
     "metadata": {},
     "output_type": "display_data"
    },
    {
     "name": "stdout",
     "output_type": "stream",
     "text": [
      "Low Outliers in WoodDeckSF: []\n",
      "Upper Outliers in WoodDeckSF: [421, 426, 431, 431, 436, 439, 441, 448, 466, 468, 474, 476, 486, 486, 495, 500, 503, 509, 511, 517, 519, 536, 550, 574, 576, 586, 635, 668, 670, 728, 736, 857]\n",
      "\n",
      "\n"
     ]
    },
    {
     "data": {
      "image/png": "[encoded data removed]",
      "text/plain": [
       "<Figure size 300x200 with 1 Axes>"
      ]
     },
     "metadata": {},
     "output_type": "display_data"
    },
    {
     "name": "stdout",
     "output_type": "stream",
     "text": [
      "Low Outliers in OpenPorchSF: []\n",
      "Upper Outliers in OpenPorchSF: [172, 172, 174, 175, 176, 180, 182, 184, 184, 184, 185, 187, 188, 189, 191, 192, 192, 192, 195, 198, 198, 199, 200, 204, 204, 205, 207, 207, 208, 210, 211, 211, 213, 214, 224, 228, 228, 229, 231, 234, 234, 234, 235, 236, 238, 240, 240, 241, 243, 244, 247, 250, 252, 258, 260, 262, 263, 265, 267, 274, 282, 285, 287, 288, 291, 292, 304, 312, 312, 319, 341, 364, 406, 418, 502, 523, 547]\n",
      "\n",
      "\n"
     ]
    },
    {
     "data": {
      "image/png": "[encoded data removed]",
      "text/plain": [
       "<Figure size 300x200 with 1 Axes>"
      ]
     },
     "metadata": {},
     "output_type": "display_data"
    },
    {
     "name": "stdout",
     "output_type": "stream",
     "text": [
      "Low Outliers in MiscVal: []\n",
      "Upper Outliers in MiscVal: [54, 350, 400, 400, 400, 400, 400, 400, 400, 400, 400, 400, 400, 450, 450, 450, 450, 480, 480, 500, 500, 500, 500, 500, 500, 500, 500, 560, 600, 600, 600, 600, 620, 700, 700, 700, 700, 700, 800, 1150, 1200, 1200, 1300, 1400, 2000, 2000, 2000, 2000, 2500, 3500, 8300, 15500]\n",
      "\n",
      "\n"
     ]
    },
    {
     "data": {
      "image/png": "[encoded data removed]",
      "text/plain": [
       "<Figure size 300x200 with 1 Axes>"
      ]
     },
     "metadata": {},
     "output_type": "display_data"
    },
    {
     "name": "stdout",
     "output_type": "stream",
     "text": [
      "Low Outliers in MoSold: []\n",
      "Upper Outliers in MoSold: []\n",
      "\n",
      "\n"
     ]
    },
    {
     "data": {
      "image/png": "[encoded data removed]",
      "text/plain": [
       "<Figure size 300x200 with 1 Axes>"
      ]
     },
     "metadata": {},
     "output_type": "display_data"
    },
    {
     "name": "stdout",
     "output_type": "stream",
     "text": [
      "Low Outliers in YrSold: []\n",
      "Upper Outliers in YrSold: []\n",
      "\n",
      "\n"
     ]
    },
    {
     "data": {
      "image/png": "[encoded data removed]",
      "text/plain": [
       "<Figure size 300x200 with 1 Axes>"
      ]
     },
     "metadata": {},
     "output_type": "display_data"
    },
    {
     "name": "stdout",
     "output_type": "stream",
     "text": [
      "Low Outliers in SalePrice: []\n",
      "Upper Outliers in SalePrice: [341000, 342643, 345000, 345000, 348000, 350000, 350000, 354000, 359100, 360000, 361919, 367294, 369900, 370878, 372402, 372500, 374000, 375000, 377426, 377500, 378500, 380000, 381000, 383970, 385000, 385000, 386250, 392000, 392500, 394432, 394617, 395000, 395192, 402000, 402861, 403000, 410000, 412500, 415298, 423000, 424870, 426000, 430000, 437154, 438780, 440000, 446261, 451950, 465000, 466500, 475000, 485000, 501837, 538000, 555000, 556581, 582933, 611657, 625000, 745000, 755000]\n",
      "\n",
      "\n"
     ]
    }
   ],
   "source": [
    "columns = numerical.columns.to_list()\n",
    "outliers_list_and_boxplot(numerical, columns)"
   ]
  },
  {
   "cell_type": "markdown",
   "id": "13eb2348",
   "metadata": {},
   "source": [
    "Applying yeojohnson transformation to the remaining numerical columns"
   ]
  },
  {
   "cell_type": "code",
   "execution_count": 33,
   "id": "328f2adf",
   "metadata": {},
   "outputs": [],
   "source": [
    "yeoj = numerical.copy()\n",
    "# yeoj1 = numerical1.copy()\n",
    "\n",
    "for col in columns:\n",
    "    \n",
    "    #Train\n",
    "    yeoj[col], _ = stats.yeojohnson(yeoj[col])\n",
    "    \n",
    "    #Test \n",
    "#     yeoj1[col], _ = stats.yeojohnson(yeoj1[col])"
   ]
  },
  {
   "cell_type": "code",
   "execution_count": 35,
   "id": "cb0801e5",
   "metadata": {},
   "outputs": [
    {
     "data": {
      "image/png": "[encoded data removed]",
      "text/plain": [
       "<Figure size 300x200 with 1 Axes>"
      ]
     },
     "metadata": {},
     "output_type": "display_data"
    },
    {
     "name": "stdout",
     "output_type": "stream",
     "text": [
      "Low Outliers in MSSubClass: []\n",
      "Upper Outliers in MSSubClass: []\n",
      "\n",
      "\n"
     ]
    },
    {
     "data": {
      "image/png": "[encoded data removed]",
      "text/plain": [
       "<Figure size 300x200 with 1 Axes>"
      ]
     },
     "metadata": {},
     "output_type": "display_data"
    },
    {
     "name": "stdout",
     "output_type": "stream",
     "text": [
      "Low Outliers in LotArea: [8.025001604005446, 8.184418520284991, 8.196225875603442, 8.225280849716107, 8.231014317077056, 8.231014317077056, 8.281503455825716, 8.34589957607854, 8.34589957607854, 8.34589957607854, 8.34589957607854, 8.34589957607854, 8.34589957607854, 8.34589957607854, 8.34589957607854, 8.34589957607854, 8.34589957607854, 8.480074778712765, 8.494163078687947, 8.494163078687947, 8.514028396422122, 8.524500628936634, 8.533595287225879, 8.535535911717036, 8.549039973932045, 8.566199302161928, 8.575635597508922, 8.637456520731051, 8.637456520731051, 8.637456520731051, 8.66291341862415, 8.695912197629548, 8.724748037262836, 8.731441611341983, 8.731441611341983, 8.731441611341983, 8.736439432592025, 8.746928169242368, 8.746928169242368, 8.779509764967472, 8.8217294076402, 8.848461221088293, 8.859609025451759, 8.859609025451759, 8.859609025451759, 8.870663014406862, 8.884598548986597, 8.894462805453125, 8.912034077240913, 8.920250713231168, 8.920250713231168, 8.923138491608535, 8.929852091845618, 8.929852091845618, 9.031975179788022, 9.081069090636287, 9.085327015084085, 9.086601720082452, 9.111424142776286, 9.137833223589224, 9.15568826096167, 9.15568826096167, 9.15649415499849, 9.15649415499849, 9.15649415499849, 9.15649415499849, 9.15649415499849, 9.15649415499849, 9.15649415499849, 9.162121709813194, 9.162121709813194, 9.17568980700142, 9.17568980700142, 9.209400928617763, 9.22746817413508, 9.233182843925855, 9.278769359953763, 9.315001446512015, 9.316430363417606, 9.32745265073958, 9.327806690047602, 9.341541145339532, 9.341541145339532, 9.341541145339532, 9.344690575184949, 9.348878238333201, 9.362397737316583, 9.39879896869312, 9.411490528217776, 9.425378673777905, 9.425378673777905]\n",
      "Upper Outliers in LotArea: [11.702698065879078, 11.706301460595373, 11.736380468533381, 11.768205943647661, 11.786316452773605, 11.805989675261836, 11.834313652334151, 11.867456475558328, 11.884942837279748, 11.89012494471216, 11.900486418949127, 11.903348149321287, 11.907656774519037, 11.946010482637876, 11.947893237968435, 12.022803742044271, 12.073817046834884, 12.132857555380573, 12.21356676358576, 12.243276499067441, 12.251947338878168, 12.3331608665115, 12.352269165819934, 12.376698089057369, 12.405001151885731, 12.500357880845069, 12.535004100253216, 12.71374595940531, 12.743619095043522, 12.84967839366172, 12.926355196996614, 12.929511427736692, 12.936770807267637, 13.030294476151633, 13.185517103528909, 13.329460233907119, 14.021575055755813, 14.485990964550277, 14.53661218887977, 14.926125839413423]\n",
      "\n",
      "\n"
     ]
    },
    {
     "data": {
      "image/png": "[encoded data removed]",
      "text/plain": [
       "<Figure size 300x200 with 1 Axes>"
      ]
     },
     "metadata": {},
     "output_type": "display_data"
    },
    {
     "name": "stdout",
     "output_type": "stream",
     "text": [
      "Low Outliers in OverallQual: [0.8918818118922789, 0.8918818118922789, 1.6529924794854611, 1.6529924794854611, 1.6529924794854611]\n",
      "Upper Outliers in OverallQual: []\n",
      "\n",
      "\n"
     ]
    },
    {
     "data": {
      "image/png": "[encoded data removed]",
      "text/plain": [
       "<Figure size 300x200 with 1 Axes>"
      ]
     },
     "metadata": {},
     "output_type": "display_data"
    },
    {
     "name": "stdout",
     "output_type": "stream",
     "text": [
      "Low Outliers in OverallCond: [0.75372235962376, 1.2559507818210256, 1.2559507818210256, 1.2559507818210256, 1.2559507818210256, 1.2559507818210256, 1.642912749469703, 1.642912749469703, 1.642912749469703, 1.642912749469703, 1.642912749469703, 1.642912749469703, 1.642912749469703, 1.642912749469703, 1.642912749469703, 1.642912749469703, 1.642912749469703, 1.642912749469703, 1.642912749469703, 1.642912749469703, 1.642912749469703, 1.642912749469703, 1.642912749469703, 1.642912749469703, 1.642912749469703, 1.642912749469703, 1.642912749469703, 1.642912749469703, 1.642912749469703, 1.642912749469703, 1.642912749469703]\n",
      "Upper Outliers in OverallCond: [2.8880499984878325, 2.8880499984878325, 2.8880499984878325, 2.8880499984878325, 2.8880499984878325, 2.8880499984878325, 2.8880499984878325, 2.8880499984878325, 2.8880499984878325, 2.8880499984878325, 2.8880499984878325, 2.8880499984878325, 2.8880499984878325, 2.8880499984878325, 2.8880499984878325, 2.8880499984878325, 2.8880499984878325, 2.8880499984878325, 2.8880499984878325, 2.8880499984878325, 2.8880499984878325, 2.8880499984878325, 2.8880499984878325, 2.8880499984878325, 2.8880499984878325, 2.8880499984878325, 2.8880499984878325, 2.8880499984878325, 2.8880499984878325, 2.8880499984878325, 2.8880499984878325, 2.8880499984878325, 2.8880499984878325, 2.8880499984878325, 2.8880499984878325, 2.8880499984878325, 2.8880499984878325, 2.8880499984878325, 2.8880499984878325, 2.8880499984878325, 2.8880499984878325, 2.8880499984878325, 2.8880499984878325, 2.8880499984878325, 2.8880499984878325, 2.8880499984878325, 2.8880499984878325, 2.8880499984878325, 2.8880499984878325, 2.8880499984878325, 2.8880499984878325, 2.8880499984878325, 2.8880499984878325, 2.8880499984878325, 2.8880499984878325, 2.8880499984878325, 2.8880499984878325, 2.8880499984878325, 2.8880499984878325, 2.8880499984878325, 2.8880499984878325, 2.8880499984878325, 2.8880499984878325, 2.8880499984878325, 2.8880499984878325, 2.8880499984878325, 2.8880499984878325, 2.8880499984878325, 2.8880499984878325, 2.8880499984878325, 2.8880499984878325, 2.8880499984878325, 3.0682242919841123, 3.0682242919841123, 3.0682242919841123, 3.0682242919841123, 3.0682242919841123, 3.0682242919841123, 3.0682242919841123, 3.0682242919841123, 3.0682242919841123, 3.0682242919841123, 3.0682242919841123, 3.0682242919841123, 3.0682242919841123, 3.0682242919841123, 3.0682242919841123, 3.0682242919841123, 3.0682242919841123, 3.0682242919841123, 3.0682242919841123, 3.0682242919841123, 3.0682242919841123, 3.0682242919841123]\n",
      "\n",
      "\n"
     ]
    },
    {
     "data": {
      "image/png": "[encoded data removed]",
      "text/plain": [
       "<Figure size 300x200 with 1 Axes>"
      ]
     },
     "metadata": {},
     "output_type": "display_data"
    },
    {
     "name": "stdout",
     "output_type": "stream",
     "text": [
      "Low Outliers in YearBuilt: []\n",
      "Upper Outliers in YearBuilt: []\n",
      "\n",
      "\n"
     ]
    },
    {
     "data": {
      "image/png": "[encoded data removed]",
      "text/plain": [
       "<Figure size 300x200 with 1 Axes>"
      ]
     },
     "metadata": {},
     "output_type": "display_data"
    },
    {
     "name": "stdout",
     "output_type": "stream",
     "text": [
      "Low Outliers in YearRemodAdd: []\n",
      "Upper Outliers in YearRemodAdd: []\n",
      "\n",
      "\n"
     ]
    },
    {
     "data": {
      "image/png": "[encoded data removed]",
      "text/plain": [
       "<Figure size 300x200 with 1 Axes>"
      ]
     },
     "metadata": {},
     "output_type": "display_data"
    },
    {
     "name": "stdout",
     "output_type": "stream",
     "text": [
      "Low Outliers in BsmtFinSF1: []\n",
      "Upper Outliers in BsmtFinSF1: []\n",
      "\n",
      "\n"
     ]
    },
    {
     "data": {
      "image/png": "[encoded data removed]",
      "text/plain": [
       "<Figure size 300x200 with 1 Axes>"
      ]
     },
     "metadata": {},
     "output_type": "display_data"
    },
    {
     "name": "stdout",
     "output_type": "stream",
     "text": [
      "Low Outliers in BsmtFinSF2: []\n",
      "Upper Outliers in BsmtFinSF2: [0.6533104812204551, 0.6540090305222362, 0.6544077329210533, 0.6549134022433252, 0.6549965983954662, 0.6549965983954662, 0.6560780671607422, 0.6560780671607422, 0.6561776290328168, 0.6564042220167446, 0.6564193905530437, 0.6565704211433719, 0.6565704211433719, 0.6566009423186587, 0.6566009423186587, 0.6566796653094971, 0.6566873912196198, 0.65670230900369, 0.656716552226623, 0.656761666792841, 0.656761666792841, 0.6567733477600917, 0.6567845479478763, 0.6567952945482887, 0.6568056128099945, 0.6568155262052064, 0.6568203379644914, 0.6568386781289651, 0.6568676299476124, 0.6568861744339979, 0.6568965477973293, 0.6568965477973293, 0.6569031739268402, 0.6569064041962032, 0.6569439433965892, 0.6569490667669169, 0.6569564663463132, 0.6569588598908166, 0.6569680887691245, 0.6569703131275925, 0.6569725056650016, 0.6569767977892852, 0.6569830126111126, 0.6569830126111126, 0.6569830126111126, 0.6569830126111126, 0.6569830126111126, 0.6569850269534183, 0.656987013579795, 0.656987013579795, 0.6569909057906237, 0.6570071799398542, 0.6570216561087542, 0.6570304413647516, 0.6570332303822178, 0.6570346000522351, 0.6570399194198476, 0.657044996077034, 0.6570556078986043, 0.6570578252066125, 0.6570599946304683, 0.6570672307144604, 0.6570682213199727, 0.6570844237106559, 0.6570892140532995, 0.6570959074249217, 0.6570980172689043, 0.657100070271873, 0.657100070271873, 0.6571052828346229, 0.6571052828346229, 0.6571071447811876, 0.6571071447811876, 0.6571095533471145, 0.6571095533471145, 0.6571163080458099, 0.6571189303629025, 0.6571252762761741, 0.6571297388700313, 0.6571305914664387, 0.6571338777893835, 0.6571342751421756, 0.6571369774316475, 0.6571377249029974, 0.6571406113924635, 0.6571446521655501, 0.6571446521655501, 0.6571446521655501, 0.657144974266518, 0.6571456120298899, 0.6571465528756173, 0.657149848173029, 0.657149848173029, 0.6571512702793311, 0.6571523758627301, 0.6571552774276911, 0.6571575101046391, 0.6571609750081462, 0.6571616323164838, 0.6571622783952102, 0.6571670730770997, 0.6571672594386873, 0.6571676291587643, 0.6571676291587643, 0.6571678125322433, 0.6571678125322433, 0.6571683567948786, 0.6571695934873909, 0.65716976645917, 0.65716976645917, 0.6571707855259636, 0.6571716108782971, 0.6571717734190414, 0.6571722560894429, 0.6571728883123527, 0.6571730443814069, 0.657173964531813, 0.6571775194204548, 0.6571776529101844, 0.6571785699271167, 0.6571785699271167, 0.657179206805463, 0.6571794574524811, 0.6571795819115499, 0.6571800740705683, 0.6571800740705683, 0.6571807956706167, 0.6571833890929921, 0.6571854426941833, 0.657186025658388, 0.6571862167660667, 0.6571865942714388, 0.657187330939626, 0.6571879561725865, 0.6571882187852562, 0.6571885640763258, 0.6571894859262384, 0.6571907582409493, 0.6571912908459984, 0.6571914404492244, 0.6571923149482354, 0.6571928767485268, 0.657193014647254, 0.6571943402649769, 0.6571943402649769, 0.6571944040947304, 0.657195030196286, 0.657197383724172, 0.6571975964925239, 0.6571987676165633, 0.6572001273567846, 0.6572002611582433, 0.6572010388249983, 0.657202168488641, 0.6572022841239074, 0.6572035277146394, 0.6572056336469658, 0.6572071828292223, 0.6572072332891425, 0.6572078674778242, 0.6572079615802059, 0.6572080082970989, 0.6572083966167048, 0.6572085079176646, 0.6572092521789948, 0.6572093940702948, 0.6572143901294247]\n",
      "\n",
      "\n"
     ]
    },
    {
     "data": {
      "image/png": "[encoded data removed]",
      "text/plain": [
       "<Figure size 300x200 with 1 Axes>"
      ]
     },
     "metadata": {},
     "output_type": "display_data"
    },
    {
     "name": "stdout",
     "output_type": "stream",
     "text": [
      "Low Outliers in BsmtUnfSF: []\n",
      "Upper Outliers in BsmtUnfSF: []\n",
      "\n",
      "\n"
     ]
    },
    {
     "data": {
      "image/png": "[encoded data removed]",
      "text/plain": [
       "<Figure size 300x200 with 1 Axes>"
      ]
     },
     "metadata": {},
     "output_type": "display_data"
    },
    {
     "name": "stdout",
     "output_type": "stream",
     "text": [
      "Low Outliers in 1stFlrSF: [4.65086848112736, 4.718110736223122, 4.818974134313234]\n",
      "Upper Outliers in 1stFlrSF: [5.896711403827437, 5.938652887640418, 5.953494961995196, 6.146688049172391]\n",
      "\n",
      "\n"
     ]
    },
    {
     "data": {
      "image/png": "[encoded data removed]",
      "text/plain": [
       "<Figure size 300x200 with 1 Axes>"
      ]
     },
     "metadata": {},
     "output_type": "display_data"
    },
    {
     "name": "stdout",
     "output_type": "stream",
     "text": [
      "Low Outliers in 2ndFlrSF: []\n",
      "Upper Outliers in 2ndFlrSF: []\n",
      "\n",
      "\n"
     ]
    },
    {
     "data": {
      "image/png": "[encoded data removed]",
      "text/plain": [
       "<Figure size 300x200 with 1 Axes>"
      ]
     },
     "metadata": {},
     "output_type": "display_data"
    },
    {
     "name": "stdout",
     "output_type": "stream",
     "text": [
      "Low Outliers in LowQualFinSF: []\n",
      "Upper Outliers in LowQualFinSF: [0.09981397831392178, 0.09981397831392178, 0.09981397831392178, 0.09981397831392178, 0.09981397831392178, 0.09981397831392178, 0.09981397831392178, 0.09981397831392178, 0.09981397831392178, 0.09981397831392178, 0.09981397831392178, 0.09981397831392178, 0.09981397831392178, 0.09981397831392178, 0.09981397831392178, 0.09981397831392178, 0.09981397831392178, 0.09981397831392178, 0.09981397831392178, 0.09981397831392178, 0.09981397831392178, 0.09981397831392178, 0.09981397831392178, 0.09981397831392178, 0.09981397831392178, 0.09981397831392178]\n",
      "\n",
      "\n"
     ]
    },
    {
     "data": {
      "image/png": "[encoded data removed]",
      "text/plain": [
       "<Figure size 300x200 with 1 Axes>"
      ]
     },
     "metadata": {},
     "output_type": "display_data"
    },
    {
     "name": "stdout",
     "output_type": "stream",
     "text": [
      "Low Outliers in GrLivArea: [5.90877524278351, 6.18820317603775, 6.282727081497974, 6.365408390261964]\n",
      "Upper Outliers in GrLivArea: [8.379871707802305, 8.385366344537136, 8.567410211912891, 8.60553371742256, 8.651326383911385, 8.848186099127439]\n",
      "\n",
      "\n"
     ]
    },
    {
     "data": {
      "image/png": "[encoded data removed]",
      "text/plain": [
       "<Figure size 300x200 with 1 Axes>"
      ]
     },
     "metadata": {},
     "output_type": "display_data"
    },
    {
     "name": "stdout",
     "output_type": "stream",
     "text": [
      "Low Outliers in BsmtFullBath: []\n",
      "Upper Outliers in BsmtFullBath: []\n",
      "\n",
      "\n"
     ]
    },
    {
     "data": {
      "image/png": "[encoded data removed]",
      "text/plain": [
       "<Figure size 300x200 with 1 Axes>"
      ]
     },
     "metadata": {},
     "output_type": "display_data"
    },
    {
     "name": "stdout",
     "output_type": "stream",
     "text": [
      "Low Outliers in FullBath: []\n",
      "Upper Outliers in FullBath: []\n",
      "\n",
      "\n"
     ]
    },
    {
     "data": {
      "image/png": "[encoded data removed]",
      "text/plain": [
       "<Figure size 300x200 with 1 Axes>"
      ]
     },
     "metadata": {},
     "output_type": "display_data"
    },
    {
     "name": "stdout",
     "output_type": "stream",
     "text": [
      "Low Outliers in HalfBath: []\n",
      "Upper Outliers in HalfBath: []\n",
      "\n",
      "\n"
     ]
    },
    {
     "data": {
      "image/png": "[encoded data removed]",
      "text/plain": [
       "<Figure size 300x200 with 1 Axes>"
      ]
     },
     "metadata": {},
     "output_type": "display_data"
    },
    {
     "name": "stdout",
     "output_type": "stream",
     "text": [
      "Low Outliers in BedroomAbvGr: [0.0, 0.0, 0.0, 0.0, 0.0, 0.0]\n",
      "Upper Outliers in BedroomAbvGr: [4.6247635741843975, 4.6247635741843975, 4.6247635741843975, 4.6247635741843975, 4.6247635741843975, 4.6247635741843975, 4.6247635741843975, 4.6247635741843975, 4.6247635741843975, 4.6247635741843975, 4.6247635741843975, 4.6247635741843975, 4.6247635741843975, 4.6247635741843975, 4.6247635741843975, 4.6247635741843975, 4.6247635741843975, 4.6247635741843975, 4.6247635741843975, 4.6247635741843975, 4.6247635741843975, 5.504819184621347, 5.504819184621347, 5.504819184621347, 5.504819184621347, 5.504819184621347, 5.504819184621347, 5.504819184621347, 7.240351689671794]\n",
      "\n",
      "\n"
     ]
    },
    {
     "data": {
      "image/png": "[encoded data removed]",
      "text/plain": [
       "<Figure size 300x200 with 1 Axes>"
      ]
     },
     "metadata": {},
     "output_type": "display_data"
    },
    {
     "name": "stdout",
     "output_type": "stream",
     "text": [
      "Low Outliers in TotRmsAbvGrd: [1.148369068491514]\n",
      "Upper Outliers in TotRmsAbvGrd: [2.847263912824086, 2.847263912824086, 2.847263912824086, 2.847263912824086, 2.847263912824086, 2.847263912824086, 2.847263912824086, 2.847263912824086, 2.847263912824086, 2.847263912824086, 2.847263912824086, 3.0239916323762506]\n",
      "\n",
      "\n"
     ]
    },
    {
     "data": {
      "image/png": "[encoded data removed]",
      "text/plain": [
       "<Figure size 300x200 with 1 Axes>"
      ]
     },
     "metadata": {},
     "output_type": "display_data"
    },
    {
     "name": "stdout",
     "output_type": "stream",
     "text": [
      "Low Outliers in GarageCars: []\n",
      "Upper Outliers in GarageCars: [5.737615474389409, 5.737615474389409, 5.737615474389409, 5.737615474389409, 5.737615474389409]\n",
      "\n",
      "\n"
     ]
    },
    {
     "data": {
      "image/png": "[encoded data removed]",
      "text/plain": [
       "<Figure size 300x200 with 1 Axes>"
      ]
     },
     "metadata": {},
     "output_type": "display_data"
    },
    {
     "name": "stdout",
     "output_type": "stream",
     "text": [
      "Low Outliers in GarageArea: [0.0, 0.0, 0.0, 0.0, 0.0, 0.0, 0.0, 0.0, 0.0, 0.0, 0.0, 0.0, 0.0, 0.0, 0.0, 0.0, 0.0, 0.0, 0.0, 0.0, 0.0, 0.0, 0.0, 0.0, 0.0, 0.0, 0.0, 0.0, 0.0, 0.0, 0.0, 0.0, 0.0, 0.0, 0.0, 0.0, 0.0, 0.0, 0.0, 0.0, 0.0, 0.0, 0.0, 0.0, 0.0, 0.0, 0.0, 0.0, 0.0, 0.0, 0.0, 0.0, 0.0, 0.0, 0.0, 0.0, 0.0, 0.0, 0.0, 0.0, 0.0, 0.0, 0.0, 0.0, 0.0, 0.0, 0.0, 0.0, 0.0, 0.0, 0.0, 0.0, 0.0, 0.0, 0.0, 0.0, 0.0, 0.0, 0.0, 0.0, 0.0]\n",
      "Upper Outliers in GarageArea: [329.08538095000364, 332.34960333265354, 337.5028333394237, 339.1263738676507, 340.4779489449445, 345.3333816111313, 347.7551619853195, 347.7551619853195, 348.02400700133194, 352.3190170590449, 369.645201232158, 378.10577299095627, 392.28466160151027, 399.58987302482404, 427.4851643671576, 436.17900327253204, 443.3085348443663]\n",
      "\n",
      "\n"
     ]
    },
    {
     "data": {
      "image/png": "[encoded data removed]",
      "text/plain": [
       "<Figure size 300x200 with 1 Axes>"
      ]
     },
     "metadata": {},
     "output_type": "display_data"
    },
    {
     "name": "stdout",
     "output_type": "stream",
     "text": [
      "Low Outliers in WoodDeckSF: []\n",
      "Upper Outliers in WoodDeckSF: []\n",
      "\n",
      "\n"
     ]
    },
    {
     "data": {
      "image/png": "[encoded data removed]",
      "text/plain": [
       "<Figure size 300x200 with 1 Axes>"
      ]
     },
     "metadata": {},
     "output_type": "display_data"
    },
    {
     "name": "stdout",
     "output_type": "stream",
     "text": [
      "Low Outliers in OpenPorchSF: []\n",
      "Upper Outliers in OpenPorchSF: []\n",
      "\n",
      "\n"
     ]
    },
    {
     "data": {
      "image/png": "[encoded data removed]",
      "text/plain": [
       "<Figure size 300x200 with 1 Axes>"
      ]
     },
     "metadata": {},
     "output_type": "display_data"
    },
    {
     "name": "stdout",
     "output_type": "stream",
     "text": [
      "Low Outliers in MiscVal: []\n",
      "Upper Outliers in MiscVal: [0.23345593012796304, 0.2334559383176999, 0.23345593831896957, 0.23345593831896957, 0.23345593831896957, 0.23345593831896957, 0.23345593831896957, 0.23345593831896957, 0.23345593831896957, 0.23345593831896957, 0.23345593831896957, 0.23345593831896957, 0.23345593831896957, 0.23345593831962252, 0.23345593831962252, 0.23345593831962252, 0.23345593831962252, 0.23345593831986308, 0.23345593831986308, 0.2334559383199844, 0.2334559383199844, 0.2334559383199844, 0.2334559383199844, 0.2334559383199844, 0.2334559383199844, 0.2334559383199844, 0.2334559383199844, 0.23345593832022868, 0.23345593832032877, 0.23345593832032877, 0.23345593832032877, 0.23345593832032877, 0.23345593832036696, 0.23345593832046962, 0.23345593832046962, 0.23345593832046962, 0.23345593832046962, 0.23345593832046962, 0.2334559383205353, 0.2334559383206025, 0.2334559383206055, 0.2334559383206055, 0.23345593832060985, 0.23345593832061273, 0.23345593832061884, 0.23345593832061884, 0.23345593832061884, 0.23345593832061884, 0.23345593832061987, 0.23345593832062037, 0.2334559383206205, 0.2334559383206205]\n",
      "\n",
      "\n"
     ]
    },
    {
     "data": {
      "image/png": "[encoded data removed]",
      "text/plain": [
       "<Figure size 300x200 with 1 Axes>"
      ]
     },
     "metadata": {},
     "output_type": "display_data"
    },
    {
     "name": "stdout",
     "output_type": "stream",
     "text": [
      "Low Outliers in MoSold: [0.9064889818907199, 0.9064889818907199, 0.9064889818907199, 0.9064889818907199, 0.9064889818907199, 0.9064889818907199, 0.9064889818907199, 0.9064889818907199, 0.9064889818907199, 0.9064889818907199, 0.9064889818907199, 0.9064889818907199, 0.9064889818907199, 0.9064889818907199, 0.9064889818907199, 0.9064889818907199, 0.9064889818907199, 0.9064889818907199, 0.9064889818907199, 0.9064889818907199, 0.9064889818907199, 0.9064889818907199, 0.9064889818907199, 0.9064889818907199, 0.9064889818907199, 0.9064889818907199, 0.9064889818907199, 0.9064889818907199, 0.9064889818907199, 0.9064889818907199, 0.9064889818907199, 0.9064889818907199, 0.9064889818907199, 0.9064889818907199, 0.9064889818907199, 0.9064889818907199, 0.9064889818907199, 0.9064889818907199, 0.9064889818907199, 0.9064889818907199, 0.9064889818907199, 0.9064889818907199, 0.9064889818907199, 0.9064889818907199, 0.9064889818907199, 0.9064889818907199, 0.9064889818907199, 0.9064889818907199, 0.9064889818907199, 0.9064889818907199, 0.9064889818907199, 0.9064889818907199, 0.9064889818907199, 0.9064889818907199, 0.9064889818907199, 0.9064889818907199, 0.9064889818907199, 0.9064889818907199]\n",
      "Upper Outliers in MoSold: []\n",
      "\n",
      "\n"
     ]
    },
    {
     "data": {
      "image/png": "[encoded data removed]",
      "text/plain": [
       "<Figure size 300x200 with 1 Axes>"
      ]
     },
     "metadata": {},
     "output_type": "display_data"
    },
    {
     "name": "stdout",
     "output_type": "stream",
     "text": [
      "Low Outliers in YrSold: []\n",
      "Upper Outliers in YrSold: []\n",
      "\n",
      "\n"
     ]
    },
    {
     "data": {
      "image/png": "[encoded data removed]",
      "text/plain": [
       "<Figure size 300x200 with 1 Axes>"
      ]
     },
     "metadata": {},
     "output_type": "display_data"
    },
    {
     "name": "stdout",
     "output_type": "stream",
     "text": [
      "Low Outliers in SalePrice: [7.1854480094109405, 7.190681285144655, 7.222208984844138, 7.2383052849262, 7.24612341970352, 7.3610638092413465, 7.365212453232053, 7.3853368308184715, 7.3853368308184715, 7.393058334092763, 7.411914406398275, 7.422784868469851, 7.422784868469851, 7.422784868469851, 7.429870481983891, 7.439466421598341]\n",
      "Upper Outliers in SalePrice: [8.24323583294845, 8.25085145750017, 8.263299596781652, 8.2885800748235, 8.29983887720171, 8.300867016946563, 8.317555328116047, 8.33484451350064, 8.342580605785052, 8.40506684552121, 8.409776233769591]\n",
      "\n",
      "\n"
     ]
    }
   ],
   "source": [
    "outliers_list_and_boxplot(yeoj, columns)"
   ]
  },
  {
   "cell_type": "markdown",
   "id": "e818920f",
   "metadata": {},
   "source": [
    "### Scaling"
   ]
  },
  {
   "cell_type": "code",
   "execution_count": 36,
   "id": "73d13d6f",
   "metadata": {},
   "outputs": [],
   "source": [
    "scaled_data = yeoj.copy()\n",
    "# scaled_data1 = yeoj1.copy()\n",
    "\n",
    "scaler = RobustScaler()\n",
    "# scaler1 = RobustScaler\n",
    "\n",
    "scaled_data[columns] = scaler.fit_transform(scaled_data[columns])\n",
    "# scaled_data1[columns] = scaler1.fit_transform(scaled_data1[columns])"
   ]
  },
  {
   "cell_type": "code",
   "execution_count": 37,
   "id": "d7328eb7",
   "metadata": {},
   "outputs": [],
   "source": [
    "train[columns] = scaled_data[columns]\n",
    "# test[columns] = scaled_data1[columns]"
   ]
  },
  {
   "cell_type": "markdown",
   "id": "980b2968",
   "metadata": {},
   "source": [
    "# Running some models"
   ]
  },
  {
   "cell_type": "code",
   "execution_count": 38,
   "id": "c1f9146f",
   "metadata": {},
   "outputs": [],
   "source": [
    "X = train.drop('SalePrice', axis=1)\n",
    "y = train['SalePrice']"
   ]
  },
  {
   "cell_type": "code",
   "execution_count": 39,
   "id": "b2131293",
   "metadata": {},
   "outputs": [],
   "source": [
    "from sklearn.model_selection import train_test_split\n",
    "from sklearn.linear_model import LinearRegression\n",
    "from sklearn.tree import DecisionTreeRegressor\n",
    "from sklearn.ensemble import RandomForestRegressor\n",
    "from sklearn.metrics import mean_squared_error"
   ]
  },
  {
   "cell_type": "code",
   "execution_count": 40,
   "id": "6ef60b81",
   "metadata": {},
   "outputs": [],
   "source": [
    "X_train, X_test, y_train, y_test = train_test_split(X, y, test_size=0.2, random_state=42)"
   ]
  },
  {
   "cell_type": "markdown",
   "id": "10b9c16f",
   "metadata": {},
   "source": [
    "## Comparing different models"
   ]
  },
  {
   "cell_type": "code",
   "execution_count": 41,
   "id": "52749e8a",
   "metadata": {},
   "outputs": [],
   "source": [
    "def compare_models(X_train, y_train, models):\n",
    "    best_rmse = np.inf\n",
    "\n",
    "    for model in models:\n",
    "        regressor = model\n",
    "        regressor.fit(X_train, y_train)\n",
    "        predictions = regressor.predict(X_test)\n",
    "        rmse = np.sqrt(mean_squared_error(y_test, predictions))\n",
    "        if rmse < best_rmse:\n",
    "            best_rmse = round(rmse, 2)\n",
    "    print(f\"Best RMSE is for {model}. RMSE = {best_rmse}\")"
   ]
  },
  {
   "cell_type": "code",
   "execution_count": 42,
   "id": "29989a76",
   "metadata": {},
   "outputs": [
    {
     "name": "stdout",
     "output_type": "stream",
     "text": [
      "Best RMSE is for RandomForestRegressor(). RMSE = 0.28\n"
     ]
    }
   ],
   "source": [
    "models = [LinearRegression(), DecisionTreeRegressor(), RandomForestRegressor()]\n",
    "compare_models(X_train, y_train, models)"
   ]
  },
  {
   "cell_type": "code",
   "execution_count": null,
   "id": "fb243f80",
   "metadata": {},
   "outputs": [],
   "source": []
  }
 ],
 "metadata": {
  "kernelspec": {
   "display_name": "Python 3 (ipykernel)",
   "language": "python",
   "name": "python3"
  },
  "language_info": {
   "codemirror_mode": {
    "name": "ipython",
    "version": 3
   },
   "file_extension": ".py",
   "mimetype": "text/x-python",
   "name": "python",
   "nbconvert_exporter": "python",
   "pygments_lexer": "ipython3",
   "version": "3.9.13"
  }
 },
 "nbformat": 4,
 "nbformat_minor": 5
}
